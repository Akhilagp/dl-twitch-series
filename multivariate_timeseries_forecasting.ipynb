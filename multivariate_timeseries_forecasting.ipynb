{
 "cells": [
  {
   "cell_type": "markdown",
   "metadata": {},
   "source": [
    "# Multivariate time series forecasting reference with Apache MXNet and Gluon \n",
    "\n",
    "\n",
    "This notebook draws heavy inspiration from [link](https://machinelearningmastery.com/multivariate-time-series-forecasting-lstms-keras/) and tries to recreate the results with `Apache MXNet` and `Gluon`. The aim of this notebook is to show how multivariate timeseries modeling can be done with Apache MXNet and Gluon. Don't forget to review the very handy `reusable` Gluon Regression class."
   ]
  },
  {
   "cell_type": "markdown",
   "metadata": {},
   "source": [
    "# Problem\n",
    "Air pollution forecasting with data recorded at the US embassy in Beijing, China for five years.\n",
    "\n",
    "# Dataset\n",
    "https://archive.ics.uci.edu/ml/datasets/Beijing+PM2.5+Data"
   ]
  },
  {
   "cell_type": "markdown",
   "metadata": {},
   "source": [
    "# Load Dataset and clean it up"
   ]
  },
  {
   "cell_type": "code",
   "execution_count": 213,
   "metadata": {
    "collapsed": false
   },
   "outputs": [
    {
     "name": "stdout",
     "output_type": "stream",
     "text": [
      "                     pollution  dew  temp   press wnd_dir  wnd_spd  snow  rain\n",
      "date                                                                          \n",
      "2010-01-02 00:00:00      129.0  -16  -4.0  1020.0      SE     1.79     0     0\n",
      "2010-01-02 01:00:00      148.0  -15  -4.0  1020.0      SE     2.68     0     0\n",
      "2010-01-02 02:00:00      159.0  -11  -5.0  1021.0      SE     3.57     0     0\n",
      "2010-01-02 03:00:00      181.0   -7  -5.0  1022.0      SE     5.36     1     0\n",
      "2010-01-02 04:00:00      138.0   -7  -5.0  1022.0      SE     6.25     2     0\n"
     ]
    }
   ],
   "source": [
    "from pandas import read_csv\n",
    "from datetime import datetime\n",
    "# load data\n",
    "def parse(x):\n",
    "    return datetime.strptime(x, '%Y %m %d %H')\n",
    "dataset = read_csv('PRSA_data_2010.1.1-2014.12.31.csv',  parse_dates = [['year', 'month', 'day', 'hour']], index_col=0, date_parser=parse)\n",
    "dataset.drop('No', axis=1, inplace=True)\n",
    "# manually specify column names\n",
    "dataset.columns = ['pollution', 'dew', 'temp', 'press', 'wnd_dir', 'wnd_spd', 'snow', 'rain']\n",
    "dataset.index.name = 'date'\n",
    "\n",
    "## CLEAN DATA\n",
    "\n",
    "# mark all NA values with 0\n",
    "dataset['pollution'].fillna(0, inplace=True)\n",
    "# drop the first 24 hours\n",
    "dataset = dataset[24:]\n",
    "# summarize first 5 rows\n",
    "print(dataset.head(5))\n",
    "# save to file\n",
    "dataset.to_csv('pollution.csv')"
   ]
  },
  {
   "cell_type": "markdown",
   "metadata": {},
   "source": [
    "```\n",
    "No: row number\n",
    "year: year of data in this row\n",
    "month: month of data in this row\n",
    "day: day of data in this row\n",
    "hour: hour of data in this row\n",
    "pm2.5: PM2.5 concentration\n",
    "DEWP: Dew Point\n",
    "TEMP: Temperature\n",
    "PRES: Pressure\n",
    "cbwd: Combined wind direction\n",
    "Iws: Cumulated wind speed\n",
    "Is: Cumulated hours of snow\n",
    "Ir: Cumulated hours of rain\n",
    "```"
   ]
  },
  {
   "cell_type": "code",
   "execution_count": 244,
   "metadata": {
    "collapsed": false
   },
   "outputs": [
    {
     "name": "stdout",
     "output_type": "stream",
     "text": [
      "                     pollution  dew  temp   press wnd_dir  wnd_spd  snow  rain\n",
      "date                                                                          \n",
      "2010-01-02 00:00:00      129.0  -16  -4.0  1020.0      SE     1.79     0     0\n",
      "2010-01-02 01:00:00      148.0  -15  -4.0  1020.0      SE     2.68     0     0\n",
      "2010-01-02 02:00:00      159.0  -11  -5.0  1021.0      SE     3.57     0     0\n",
      "2010-01-02 03:00:00      181.0   -7  -5.0  1022.0      SE     5.36     1     0\n",
      "2010-01-02 04:00:00      138.0   -7  -5.0  1022.0      SE     6.25     2     0\n"
     ]
    }
   ],
   "source": [
    "#Lets load the processed dataset\n",
    "\n",
    "import numpy as np\n",
    "import pandas as pd\n",
    "from pandas import read_csv\n",
    "import matplotlib.pyplot as plt\n",
    "\n",
    "# load dataset\n",
    "dataset = read_csv('pollution.csv', header=0, index_col=0)\n",
    "print(dataset.head(5))"
   ]
  },
  {
   "cell_type": "code",
   "execution_count": 245,
   "metadata": {
    "collapsed": false
   },
   "outputs": [
    {
     "data": {
      "image/png": "[encoded data removed]",
      "text/plain": [
       "<matplotlib.figure.Figure at 0x1195f6bd0>"
      ]
     },
     "metadata": {},
     "output_type": "display_data"
    }
   ],
   "source": [
    "# Get all values\n",
    "values = dataset.values\n",
    "\n",
    "# specify columns to plot\n",
    "groups = [0, 1, 2, 3, 5, 6, 7]\n",
    "i = 1\n",
    "\n",
    "# plot each column\n",
    "plt.figure()\n",
    "for group in groups:\n",
    "    plt.subplot(len(groups), 1, i)\n",
    "    plt.plot(values[:, group])\n",
    "    plt.title(dataset.columns[group], y=0.5, loc='right')\n",
    "    plt.subplots_adjust(wspace=2)\n",
    "    i += 1\n",
    "plt.show()"
   ]
  },
  {
   "cell_type": "markdown",
   "metadata": {},
   "source": [
    "### Data Processing"
   ]
  },
  {
   "cell_type": "code",
   "execution_count": 246,
   "metadata": {
    "collapsed": true
   },
   "outputs": [],
   "source": [
    "# Encode the labels\n",
    "encoder = LabelEncoder()\n",
    "values[:,4] = encoder.fit_transform(values[:,4])\n",
    "values = values.astype('float32')\n",
    "\n",
    "scaler = MinMaxScaler(feature_range=(0, 1))\n",
    "scaled_dataset = scaler.fit_transform(values)"
   ]
  },
  {
   "cell_type": "code",
   "execution_count": 247,
   "metadata": {
    "collapsed": false
   },
   "outputs": [
    {
     "name": "stdout",
     "output_type": "stream",
     "text": [
      "8 (43800, 8)\n",
      "['var1(t-1)', 'var2(t-1)', 'var3(t-1)', 'var4(t-1)', 'var5(t-1)', 'var6(t-1)', 'var7(t-1)', 'var8(t-1)', 'var1(t)', 'var2(t)', 'var3(t)', 'var4(t)', 'var5(t)', 'var6(t)', 'var7(t)', 'var8(t)'] 16\n",
      "   var1(t-1)  var2(t-1)  var3(t-1)  var4(t-1)  var5(t-1)  var6(t-1)  \\\n",
      "1   0.129779   0.352941   0.245902   0.527273   0.666667   0.002290   \n",
      "2   0.148893   0.367647   0.245902   0.527273   0.666667   0.003811   \n",
      "3   0.159960   0.426471   0.229508   0.545454   0.666667   0.005332   \n",
      "4   0.182093   0.485294   0.229508   0.563637   0.666667   0.008391   \n",
      "5   0.138833   0.485294   0.229508   0.563637   0.666667   0.009912   \n",
      "\n",
      "   var7(t-1)  var8(t-1)   var1(t)  \n",
      "1   0.000000        0.0  0.148893  \n",
      "2   0.000000        0.0  0.159960  \n",
      "3   0.000000        0.0  0.182093  \n",
      "4   0.037037        0.0  0.138833  \n",
      "5   0.074074        0.0  0.109658  \n"
     ]
    }
   ],
   "source": [
    "# Generate the sequences\n",
    "# Code inspiration credits: www.machinelearningmastery.com/multivariate-time-series-forecasting-lstms-keras/\n",
    "\n",
    "import pandas as pd\n",
    "\n",
    "df = pd.DataFrame(scaled_dataset)\n",
    "    \n",
    "cols = []\n",
    "col_names = []\n",
    "\n",
    "n_in = 1\n",
    "n_out = 1\n",
    "    \n",
    "n_vars = scaled_dataset.shape[1] # number of columns\n",
    "print n_vars, scaled_dataset.shape\n",
    "\n",
    "# input sequence (t-n, ... t-1)\n",
    "for i in range(n_in, 0, -1):\n",
    "    cols.append(df.shift(i))\n",
    "    col_names += [('var%d(t-%d)' % (j+1, i)) for j in range(n_vars)]\n",
    "\n",
    "# Lets forcecast pollution values\n",
    "# forecast sequence (t, t+1, ... t+n)\n",
    "cols.append(df.shift(0))\n",
    "col_names += [('var%d(t)' % (j+1)) for j in range(n_vars)]\n",
    "print col_names, len(col_names)\n",
    "\n",
    "all_values = pd.concat(cols, axis=1)\n",
    "all_values.columns = col_names\n",
    "all_values.dropna(inplace=True) #drop NaN\n",
    "    \n",
    "# Only forecasting one variable(pollution), so drop the rest\n",
    "all_values.drop(all_values.columns[range(9,16)], axis=1, inplace=True)\n",
    "print(all_values.head())"
   ]
  },
  {
   "cell_type": "code",
   "execution_count": 248,
   "metadata": {
    "collapsed": false
   },
   "outputs": [
    {
     "name": "stdout",
     "output_type": "stream",
     "text": [
      "(43799, 9)\n",
      "[[ 0.12977867  0.35294122  0.24590163  0.52727318  0.66666669  0.00229001\n",
      "   0.          0.        ]] 0.148893\n"
     ]
    }
   ],
   "source": [
    "# Lets build the sequence values for prediction\n",
    "\n",
    "seq_len = 1  # sequence length\n",
    "values = all_values.values\n",
    "print values.shape\n",
    "\n",
    "X = values[:,:-1] \n",
    "y = values[:,-1] # extract the pollution column\n",
    "\n",
    "dataX = []; dataY = []\n",
    "for i in range(0, len(y) - seq_len):\n",
    "    _x = X[i: i+seq_len]\n",
    "    _y = y[i: i+seq_len]\n",
    "    # Lets make the shape convinient for regression\n",
    "    if seq_len == 1: \n",
    "        _y = _y[0]\n",
    "    dataX.append(_x)\n",
    "    dataY.append(_y)\n",
    "    \n",
    "print dataX[0], dataY[0]"
   ]
  },
  {
   "cell_type": "code",
   "execution_count": 262,
   "metadata": {
    "collapsed": false
   },
   "outputs": [
    {
     "name": "stdout",
     "output_type": "stream",
     "text": [
      "(35038, 1, 8) (35038,) (8760, 1, 8) (8760,)\n"
     ]
    }
   ],
   "source": [
    "# split into train and test sets\n",
    "n_train_hours = 365 * 24\n",
    "\n",
    "dataX = np.array(dataX)\n",
    "dataY = np.array(dataY)\n",
    "\n",
    "#3D [samples, timesteps, features]\n",
    "train_X, train_y = dataX[n_train_hours:], dataY[n_train_hours:]\n",
    "test_X, test_y = dataX[:n_train_hours], dataY[:n_train_hours]\n",
    "\n",
    "print train_X.shape, train_y.shape, test_X.shape, test_y.shape"
   ]
  },
  {
   "cell_type": "markdown",
   "metadata": {},
   "source": [
    "# Keras model"
   ]
  },
  {
   "cell_type": "code",
   "execution_count": null,
   "metadata": {
    "collapsed": false
   },
   "outputs": [],
   "source": [
    "# design network\n",
    "model = Sequential()\n",
    "model.add(LSTM(50, input_shape=(train_X.shape[1], train_X.shape[2])))\n",
    "model.add(Dense(1))\n",
    "model.compile(loss='mae', optimizer='adam')\n",
    "# fit network\n",
    "history = model.fit(train_X, train_y, nb_epoch=5, \n",
    "                    batch_size=72, validation_data=(test_X, test_y), verbose=2, shuffle=False)\n",
    "\n",
    "# plot history\n",
    "pyplot.plot(history.history['loss'], label='train')\n",
    "pyplot.plot(history.history['val_loss'], label='test')\n",
    "pyplot.legend()\n",
    "pyplot.show()"
   ]
  },
  {
   "cell_type": "markdown",
   "metadata": {},
   "source": [
    "# MXNet Symbolic model -- LSTM"
   ]
  },
  {
   "cell_type": "code",
   "execution_count": 263,
   "metadata": {
    "collapsed": false
   },
   "outputs": [],
   "source": [
    "import mxnet as mx\n",
    "batch_size = 72\n",
    "\n",
    "train_iter = mx.io.NDArrayIter(data=train_X, label=train_y,\n",
    "                                   data_name=\"data\", label_name=\"target\",\n",
    "                                   batch_size=batch_size,\n",
    "                                   shuffle=True)\n",
    "test_iter = mx.io.NDArrayIter(data=test_X, label=test_y,\n",
    "                                  data_name=\"data\", label_name=\"target\",\n",
    "                                  batch_size=batch_size)"
   ]
  },
  {
   "cell_type": "code",
   "execution_count": 252,
   "metadata": {
    "collapsed": false
   },
   "outputs": [
    {
     "name": "stderr",
     "output_type": "stream",
     "text": [
      "INFO:root:Epoch[0] Batch [100]\tSpeed: 42700.56 samples/sec\tmae=0.068433\n",
      "INFO:root:Epoch[0] Batch [200]\tSpeed: 45789.55 samples/sec\tmae=0.068445\n",
      "INFO:root:Epoch[0] Batch [300]\tSpeed: 46326.42 samples/sec\tmae=0.063922\n",
      "INFO:root:Epoch[0] Batch [400]\tSpeed: 48871.53 samples/sec\tmae=0.051650\n",
      "INFO:root:Epoch[0] Train-mae=0.038154\n",
      "INFO:root:Epoch[0] Time cost=0.789\n",
      "INFO:root:Epoch[0] Validation-mae=0.030409\n",
      "INFO:root:Epoch[1] Batch [100]\tSpeed: 38768.89 samples/sec\tmae=0.031156\n",
      "INFO:root:Epoch[1] Batch [200]\tSpeed: 29241.53 samples/sec\tmae=0.027498\n",
      "INFO:root:Epoch[1] Batch [300]\tSpeed: 29126.58 samples/sec\tmae=0.025719\n",
      "INFO:root:Epoch[1] Batch [400]\tSpeed: 32334.42 samples/sec\tmae=0.023956\n",
      "INFO:root:Epoch[1] Train-mae=0.023457\n",
      "INFO:root:Epoch[1] Time cost=1.110\n",
      "INFO:root:Epoch[1] Validation-mae=0.018496\n",
      "INFO:root:Epoch[2] Batch [100]\tSpeed: 36878.05 samples/sec\tmae=0.023438\n",
      "INFO:root:Epoch[2] Batch [200]\tSpeed: 26699.70 samples/sec\tmae=0.023388\n",
      "INFO:root:Epoch[2] Batch [300]\tSpeed: 42455.10 samples/sec\tmae=0.022334\n",
      "INFO:root:Epoch[2] Batch [400]\tSpeed: 43260.38 samples/sec\tmae=0.022098\n",
      "INFO:root:Epoch[2] Train-mae=0.021558\n",
      "INFO:root:Epoch[2] Time cost=0.980\n",
      "INFO:root:Epoch[2] Validation-mae=0.018157\n",
      "INFO:root:Epoch[3] Batch [100]\tSpeed: 42016.34 samples/sec\tmae=0.021605\n",
      "INFO:root:Epoch[3] Batch [200]\tSpeed: 46670.79 samples/sec\tmae=0.021859\n",
      "INFO:root:Epoch[3] Batch [300]\tSpeed: 38859.24 samples/sec\tmae=0.022030\n",
      "INFO:root:Epoch[3] Batch [400]\tSpeed: 41632.47 samples/sec\tmae=0.021611\n",
      "INFO:root:Epoch[3] Train-mae=0.020956\n",
      "INFO:root:Epoch[3] Time cost=0.854\n",
      "INFO:root:Epoch[3] Validation-mae=0.017124\n",
      "INFO:root:Epoch[4] Batch [100]\tSpeed: 20181.07 samples/sec\tmae=0.021259\n",
      "INFO:root:Epoch[4] Batch [200]\tSpeed: 32505.66 samples/sec\tmae=0.021406\n",
      "INFO:root:Epoch[4] Batch [300]\tSpeed: 31708.97 samples/sec\tmae=0.021446\n",
      "INFO:root:Epoch[4] Batch [400]\tSpeed: 35351.13 samples/sec\tmae=0.020694\n",
      "INFO:root:Epoch[4] Train-mae=0.020579\n",
      "INFO:root:Epoch[4] Time cost=1.198\n",
      "INFO:root:Epoch[4] Validation-mae=0.016332\n",
      "INFO:root:Epoch[5] Batch [100]\tSpeed: 33005.44 samples/sec\tmae=0.021051\n",
      "INFO:root:Epoch[5] Batch [200]\tSpeed: 34762.11 samples/sec\tmae=0.020858\n",
      "INFO:root:Epoch[5] Batch [300]\tSpeed: 31462.06 samples/sec\tmae=0.020809\n",
      "INFO:root:Epoch[5] Batch [400]\tSpeed: 34220.71 samples/sec\tmae=0.020329\n",
      "INFO:root:Epoch[5] Train-mae=0.020174\n",
      "INFO:root:Epoch[5] Time cost=1.076\n",
      "INFO:root:Epoch[5] Validation-mae=0.016043\n",
      "INFO:root:Epoch[6] Batch [100]\tSpeed: 36525.23 samples/sec\tmae=0.020556\n",
      "INFO:root:Epoch[6] Batch [200]\tSpeed: 35726.86 samples/sec\tmae=0.020765\n",
      "INFO:root:Epoch[6] Batch [300]\tSpeed: 44361.48 samples/sec\tmae=0.020620\n",
      "INFO:root:Epoch[6] Batch [400]\tSpeed: 41074.32 samples/sec\tmae=0.020747\n",
      "INFO:root:Epoch[6] Train-mae=0.019924\n",
      "INFO:root:Epoch[6] Time cost=0.888\n",
      "INFO:root:Epoch[6] Validation-mae=0.016382\n",
      "INFO:root:Epoch[7] Batch [100]\tSpeed: 40852.23 samples/sec\tmae=0.020049\n",
      "INFO:root:Epoch[7] Batch [200]\tSpeed: 41185.01 samples/sec\tmae=0.020696\n",
      "INFO:root:Epoch[7] Batch [300]\tSpeed: 45086.85 samples/sec\tmae=0.020822\n",
      "INFO:root:Epoch[7] Batch [400]\tSpeed: 44113.61 samples/sec\tmae=0.019941\n",
      "INFO:root:Epoch[7] Train-mae=0.019762\n",
      "INFO:root:Epoch[7] Time cost=0.825\n",
      "INFO:root:Epoch[7] Validation-mae=0.015892\n",
      "INFO:root:Epoch[8] Batch [100]\tSpeed: 34026.45 samples/sec\tmae=0.020130\n",
      "INFO:root:Epoch[8] Batch [200]\tSpeed: 36293.46 samples/sec\tmae=0.020525\n",
      "INFO:root:Epoch[8] Batch [300]\tSpeed: 33784.13 samples/sec\tmae=0.020435\n",
      "INFO:root:Epoch[8] Batch [400]\tSpeed: 43231.83 samples/sec\tmae=0.019928\n",
      "INFO:root:Epoch[8] Train-mae=0.019589\n",
      "INFO:root:Epoch[8] Time cost=0.940\n",
      "INFO:root:Epoch[8] Validation-mae=0.015983\n",
      "INFO:root:Epoch[9] Batch [100]\tSpeed: 37052.11 samples/sec\tmae=0.020183\n",
      "INFO:root:Epoch[9] Batch [200]\tSpeed: 34651.22 samples/sec\tmae=0.020425\n",
      "INFO:root:Epoch[9] Batch [300]\tSpeed: 35207.13 samples/sec\tmae=0.019666\n",
      "INFO:root:Epoch[9] Batch [400]\tSpeed: 36393.05 samples/sec\tmae=0.020310\n",
      "INFO:root:Epoch[9] Train-mae=0.019343\n",
      "INFO:root:Epoch[9] Time cost=0.951\n",
      "INFO:root:Epoch[9] Validation-mae=0.015672\n",
      "INFO:root:Epoch[10] Batch [100]\tSpeed: 47803.10 samples/sec\tmae=0.019794\n",
      "INFO:root:Epoch[10] Batch [200]\tSpeed: 45308.38 samples/sec\tmae=0.020587\n",
      "INFO:root:Epoch[10] Batch [300]\tSpeed: 47848.85 samples/sec\tmae=0.020114\n",
      "INFO:root:Epoch[10] Batch [400]\tSpeed: 47250.00 samples/sec\tmae=0.019603\n",
      "INFO:root:Epoch[10] Train-mae=0.019420\n",
      "INFO:root:Epoch[10] Time cost=0.759\n",
      "INFO:root:Epoch[10] Validation-mae=0.015486\n",
      "INFO:root:Epoch[11] Batch [100]\tSpeed: 44738.58 samples/sec\tmae=0.019457\n",
      "INFO:root:Epoch[11] Batch [200]\tSpeed: 46414.14 samples/sec\tmae=0.020212\n",
      "INFO:root:Epoch[11] Batch [300]\tSpeed: 40172.97 samples/sec\tmae=0.019800\n",
      "INFO:root:Epoch[11] Batch [400]\tSpeed: 44094.93 samples/sec\tmae=0.019765\n",
      "INFO:root:Epoch[11] Train-mae=0.019392\n",
      "INFO:root:Epoch[11] Time cost=0.800\n",
      "INFO:root:Epoch[11] Validation-mae=0.015594\n",
      "INFO:root:Epoch[12] Batch [100]\tSpeed: 51313.45 samples/sec\tmae=0.019511\n",
      "INFO:root:Epoch[12] Batch [200]\tSpeed: 55301.30 samples/sec\tmae=0.020283\n",
      "INFO:root:Epoch[12] Batch [300]\tSpeed: 53858.77 samples/sec\tmae=0.019739\n",
      "INFO:root:Epoch[12] Batch [400]\tSpeed: 49391.56 samples/sec\tmae=0.019744\n",
      "INFO:root:Epoch[12] Train-mae=0.019247\n",
      "INFO:root:Epoch[12] Time cost=0.676\n",
      "INFO:root:Epoch[12] Validation-mae=0.015507\n",
      "INFO:root:Epoch[13] Batch [100]\tSpeed: 52392.60 samples/sec\tmae=0.019632\n",
      "INFO:root:Epoch[13] Batch [200]\tSpeed: 53314.32 samples/sec\tmae=0.020005\n",
      "INFO:root:Epoch[13] Batch [300]\tSpeed: 54018.79 samples/sec\tmae=0.019936\n",
      "INFO:root:Epoch[13] Batch [400]\tSpeed: 53453.70 samples/sec\tmae=0.019471\n",
      "INFO:root:Epoch[13] Train-mae=0.019301\n",
      "INFO:root:Epoch[13] Time cost=0.664\n",
      "INFO:root:Epoch[13] Validation-mae=0.016032\n",
      "INFO:root:Epoch[14] Batch [100]\tSpeed: 52767.39 samples/sec\tmae=0.019421\n",
      "INFO:root:Epoch[14] Batch [200]\tSpeed: 52631.19 samples/sec\tmae=0.019965\n",
      "INFO:root:Epoch[14] Batch [300]\tSpeed: 54870.94 samples/sec\tmae=0.019440\n",
      "INFO:root:Epoch[14] Batch [400]\tSpeed: 54005.75 samples/sec\tmae=0.019696\n",
      "INFO:root:Epoch[14] Train-mae=0.018989\n",
      "INFO:root:Epoch[14] Time cost=0.661\n",
      "INFO:root:Epoch[14] Validation-mae=0.015727\n",
      "INFO:root:Epoch[15] Batch [100]\tSpeed: 54443.59 samples/sec\tmae=0.019386\n",
      "INFO:root:Epoch[15] Batch [200]\tSpeed: 48610.51 samples/sec\tmae=0.020105\n",
      "INFO:root:Epoch[15] Batch [300]\tSpeed: 35155.25 samples/sec\tmae=0.019599\n",
      "INFO:root:Epoch[15] Batch [400]\tSpeed: 50596.61 samples/sec\tmae=0.019474\n",
      "INFO:root:Epoch[15] Train-mae=0.019013\n",
      "INFO:root:Epoch[15] Time cost=0.753\n",
      "INFO:root:Epoch[15] Validation-mae=0.015743\n",
      "INFO:root:Epoch[16] Batch [100]\tSpeed: 39960.29 samples/sec\tmae=0.019190\n",
      "INFO:root:Epoch[16] Batch [200]\tSpeed: 36836.39 samples/sec\tmae=0.019458\n",
      "INFO:root:Epoch[16] Batch [300]\tSpeed: 41946.77 samples/sec\tmae=0.019540\n",
      "INFO:root:Epoch[16] Batch [400]\tSpeed: 35905.57 samples/sec\tmae=0.019545\n",
      "INFO:root:Epoch[16] Train-mae=0.019199\n",
      "INFO:root:Epoch[16] Time cost=0.920\n",
      "INFO:root:Epoch[16] Validation-mae=0.016111\n",
      "INFO:root:Epoch[17] Batch [100]\tSpeed: 33995.47 samples/sec\tmae=0.019428\n",
      "INFO:root:Epoch[17] Batch [200]\tSpeed: 36784.79 samples/sec\tmae=0.019317\n",
      "INFO:root:Epoch[17] Batch [300]\tSpeed: 30703.76 samples/sec\tmae=0.019426\n",
      "INFO:root:Epoch[17] Batch [400]\tSpeed: 32989.54 samples/sec\tmae=0.019158\n",
      "INFO:root:Epoch[17] Train-mae=0.018623\n",
      "INFO:root:Epoch[17] Time cost=1.031\n",
      "INFO:root:Epoch[17] Validation-mae=0.015812\n",
      "INFO:root:Epoch[18] Batch [100]\tSpeed: 36507.31 samples/sec\tmae=0.018773\n",
      "INFO:root:Epoch[18] Batch [200]\tSpeed: 33389.60 samples/sec\tmae=0.019584\n",
      "INFO:root:Epoch[18] Batch [300]\tSpeed: 33934.57 samples/sec\tmae=0.018929\n",
      "INFO:root:Epoch[18] Batch [400]\tSpeed: 33203.00 samples/sec\tmae=0.018876\n",
      "INFO:root:Epoch[18] Train-mae=0.019118\n",
      "INFO:root:Epoch[18] Time cost=1.045\n",
      "INFO:root:Epoch[18] Validation-mae=0.015740\n",
      "INFO:root:Epoch[19] Batch [100]\tSpeed: 28936.93 samples/sec\tmae=0.018657\n",
      "INFO:root:Epoch[19] Batch [200]\tSpeed: 33374.10 samples/sec\tmae=0.019157\n",
      "INFO:root:Epoch[19] Batch [300]\tSpeed: 39161.33 samples/sec\tmae=0.018822\n",
      "INFO:root:Epoch[19] Batch [400]\tSpeed: 38005.94 samples/sec\tmae=0.018886\n",
      "INFO:root:Epoch[19] Train-mae=0.018359\n",
      "INFO:root:Epoch[19] Time cost=1.014\n",
      "INFO:root:Epoch[19] Validation-mae=0.016565\n",
      "INFO:root:Epoch[20] Batch [100]\tSpeed: 43506.93 samples/sec\tmae=0.019022\n",
      "INFO:root:Epoch[20] Batch [200]\tSpeed: 48362.72 samples/sec\tmae=0.018996\n",
      "INFO:root:Epoch[20] Batch [300]\tSpeed: 49917.17 samples/sec\tmae=0.018717\n",
      "INFO:root:Epoch[20] Batch [400]\tSpeed: 47537.25 samples/sec\tmae=0.018558\n",
      "INFO:root:Epoch[20] Train-mae=0.018145\n",
      "INFO:root:Epoch[20] Time cost=0.747\n",
      "INFO:root:Epoch[20] Validation-mae=0.016040\n",
      "INFO:root:Epoch[21] Batch [100]\tSpeed: 47510.63 samples/sec\tmae=0.018741\n",
      "INFO:root:Epoch[21] Batch [200]\tSpeed: 51083.68 samples/sec\tmae=0.019013\n",
      "INFO:root:Epoch[21] Batch [300]\tSpeed: 51135.58 samples/sec\tmae=0.018855\n",
      "INFO:root:Epoch[21] Batch [400]\tSpeed: 42782.53 samples/sec\tmae=0.018633\n",
      "INFO:root:Epoch[21] Train-mae=0.018181\n",
      "INFO:root:Epoch[21] Time cost=0.745\n",
      "INFO:root:Epoch[21] Validation-mae=0.016601\n",
      "INFO:root:Epoch[22] Batch [100]\tSpeed: 45346.89 samples/sec\tmae=0.018519\n",
      "INFO:root:Epoch[22] Batch [200]\tSpeed: 45223.30 samples/sec\tmae=0.018833\n",
      "INFO:root:Epoch[22] Batch [300]\tSpeed: 46223.46 samples/sec\tmae=0.018329\n",
      "INFO:root:Epoch[22] Batch [400]\tSpeed: 42746.98 samples/sec\tmae=0.018299\n",
      "INFO:root:Epoch[22] Train-mae=0.017805\n",
      "INFO:root:Epoch[22] Time cost=0.774\n",
      "INFO:root:Epoch[22] Validation-mae=0.016364\n",
      "INFO:root:Epoch[23] Batch [100]\tSpeed: 44037.19 samples/sec\tmae=0.018021\n",
      "INFO:root:Epoch[23] Batch [200]\tSpeed: 44123.54 samples/sec\tmae=0.018353\n",
      "INFO:root:Epoch[23] Batch [300]\tSpeed: 36353.18 samples/sec\tmae=0.018341\n",
      "INFO:root:Epoch[23] Batch [400]\tSpeed: 35366.95 samples/sec\tmae=0.018105\n",
      "INFO:root:Epoch[23] Train-mae=0.017974\n",
      "INFO:root:Epoch[23] Time cost=0.874\n",
      "INFO:root:Epoch[23] Validation-mae=0.017060\n",
      "INFO:root:Epoch[24] Batch [100]\tSpeed: 49828.71 samples/sec\tmae=0.018141\n",
      "INFO:root:Epoch[24] Batch [200]\tSpeed: 48787.76 samples/sec\tmae=0.018242\n",
      "INFO:root:Epoch[24] Batch [300]\tSpeed: 48572.51 samples/sec\tmae=0.018313\n",
      "INFO:root:Epoch[24] Batch [400]\tSpeed: 50714.20 samples/sec\tmae=0.018004\n",
      "INFO:root:Epoch[24] Train-mae=0.017450\n",
      "INFO:root:Epoch[24] Time cost=0.728\n",
      "INFO:root:Epoch[24] Validation-mae=0.017604\n"
     ]
    }
   ],
   "source": [
    "import logging\n",
    "logging.getLogger().setLevel(logging.INFO)\n",
    "\n",
    "ctx = [mx.cpu(i) for i in range(1)]\n",
    "\n",
    "# Define the LSTM Neural Network\n",
    "num_epochs = 25\n",
    "\n",
    "# Note that when unrolling, if 'merge_outputs' is set to True, \n",
    "# the 'outputs' is merged into a single symbol\n",
    "# In the layout, 'N' represents batch size, 'T' represents sequence length, \n",
    "# and 'C' represents the number of dimensions in hidden states.\n",
    "\n",
    "data = mx.sym.var(\"data\")  # Shape: (N, T, C)\n",
    "target = mx.sym.var(\"target\")  # Shape: (N, T, C)\n",
    "data = mx.sym.transpose(data, axes=(1, 0, 2))  # Shape: (T, N, C)\n",
    "\n",
    "if  isinstance(ctx,list):\n",
    "    c_ctx = ctx[0]   \n",
    "else:\n",
    "    c_ctx = ctx\n",
    "    \n",
    "if c_ctx.device_type == 'cpu':\n",
    "    lstm1 = mx.rnn.LSTMCell(num_hidden=5, prefix=\"lstm1_\")\n",
    "    lstm2 = mx.rnn.LSTMCell(num_hidden=10, prefix=\"lstm2_\")\n",
    "else:\n",
    "    # FusedRNNCell\n",
    "    lstm1 = mx.rnn.FusedRNNCell(num_hidden=5, mode=\"lstm\", prefix=\"lstm1_\")\n",
    "    lstm2 = mx.rnn.FusedRNNCell(num_hidden=10, mode=\"lstm\", prefix=\"lstm2_\",\n",
    "                                    get_next_state=True)\n",
    "\n",
    "L1, L1_states = lstm1.unroll(length=seq_len, inputs=data, \n",
    "                             merge_outputs=True,\n",
    "                             layout=\"TNC\")  # Shape: (T, N, 5)\n",
    "\n",
    "L1 = mx.sym.Dropout(L1, p=0.2)  # Shape: (T, N, 5)\n",
    "\n",
    "L2, L2_states = lstm2.unroll(length=seq_len, inputs=L1, \n",
    "                            merge_outputs=True,\n",
    "                            layout=\"TNC\")  # Shape: (T, N, 10)\n",
    "\n",
    "L2 = mx.sym.reshape(L2_states[0], shape=(-1, 0), reverse=True)  # Shape: (T * N, 10)\n",
    "pred = mx.sym.FullyConnected(L2, num_hidden=1, name=\"pred\")\n",
    "pred = mx.sym.LinearRegressionOutput(data=pred, label=target)\n",
    "\n",
    "model = mx.mod.Module(symbol=pred, data_names=['data'], \n",
    "                    label_names=['target'], context=ctx)\n",
    "\n",
    "model.fit(train_data=train_iter, eval_data=test_iter,\n",
    "            initializer=mx.init.Xavier(rnd_type=\"gaussian\", magnitude=1),\n",
    "            optimizer=\"adam\",\n",
    "            optimizer_params={\"learning_rate\": 1E-3},\n",
    "            batch_end_callback=mx.callback.Speedometer(batch_size, 100),\n",
    "            eval_metric=\"mae\", num_epoch=num_epochs)"
   ]
  },
  {
   "cell_type": "markdown",
   "metadata": {},
   "source": [
    "### Lets do some predictions"
   ]
  },
  {
   "cell_type": "code",
   "execution_count": 253,
   "metadata": {
    "collapsed": false
   },
   "outputs": [
    {
     "name": "stdout",
     "output_type": "stream",
     "text": [
      "-0.00490275\n",
      "(8760, 1) (8760, 1, 8) (8760, 0, 8)\n",
      "(8760, 8)\n",
      "Test RMSE: 31.751\n"
     ]
    }
   ],
   "source": [
    "import math\n",
    "from sklearn.metrics import mean_squared_error\n",
    "\n",
    "# Prediction\n",
    "yhat = model.predict(test_iter).asnumpy()\n",
    "print np.mean((yhat - test_y))\n",
    "\n",
    "print yhat.shape, test_X.shape, test_X[:, 1:].shape\n",
    "\n",
    "p_test_X = test_X.reshape((test_X.shape[0], test_X.shape[2]))\n",
    "p_test_X.shape\n",
    "\n",
    "inv_yhat = np.concatenate((yhat, p_test_X[:, 1:]), axis=1)\n",
    "print inv_yhat.shape\n",
    "\n",
    "inv_yhat = scaler.inverse_transform(inv_yhat)\n",
    "inv_yhat = inv_yhat[:,0]\n",
    "\n",
    "# scale back\n",
    "scaled_test_y = test_y.reshape((len(test_y), 1))\n",
    "inv_y = np.concatenate((scaled_test_y, p_test_X[:, 1:]), axis=1)\n",
    "inv_y = scaler.inverse_transform(inv_y)\n",
    "inv_y = inv_y[:,0]\n",
    "\n",
    "# calculate RMSE\n",
    "rmse = math.sqrt(mean_squared_error(inv_y, inv_yhat))\n",
    "print('Test RMSE: %.3f' % rmse)"
   ]
  },
  {
   "cell_type": "code",
   "execution_count": 211,
   "metadata": {
    "collapsed": false
   },
   "outputs": [
    {
     "name": "stdout",
     "output_type": "stream",
     "text": [
      "actual    [ 148.  159.  181.  138.  109.]\n",
      "predicted [127.7, 145.7, 157.7, 180.0, 139.6]\n"
     ]
    }
   ],
   "source": [
    "print \"actual   \", inv_y[:5]\n",
    "print \"predicted\", [round(v,1) for v in inv_yhat[:5]]"
   ]
  },
  {
   "cell_type": "markdown",
   "metadata": {},
   "source": [
    "# Multi Layer Perceptron baseline"
   ]
  },
  {
   "cell_type": "code",
   "execution_count": 266,
   "metadata": {
    "collapsed": false
   },
   "outputs": [
    {
     "name": "stderr",
     "output_type": "stream",
     "text": [
      "INFO:root:Epoch[0] Batch [100]\tSpeed: 54128.39 samples/sec\tmae=0.099886\n",
      "INFO:root:Epoch[0] Batch [200]\tSpeed: 53993.20 samples/sec\tmae=0.040477\n",
      "INFO:root:Epoch[0] Batch [300]\tSpeed: 68374.86 samples/sec\tmae=0.022522\n",
      "INFO:root:Epoch[0] Batch [400]\tSpeed: 66013.77 samples/sec\tmae=0.017587\n",
      "INFO:root:Epoch[0] Train-mae=0.017038\n",
      "INFO:root:Epoch[0] Time cost=0.579\n",
      "INFO:root:Epoch[0] Validation-mae=0.017052\n",
      "INFO:root:Epoch[1] Batch [100]\tSpeed: 47257.47 samples/sec\tmae=0.016468\n",
      "INFO:root:Epoch[1] Batch [200]\tSpeed: 71434.29 samples/sec\tmae=0.015770\n",
      "INFO:root:Epoch[1] Batch [300]\tSpeed: 66885.17 samples/sec\tmae=0.015061\n",
      "INFO:root:Epoch[1] Batch [400]\tSpeed: 69751.84 samples/sec\tmae=0.014963\n",
      "INFO:root:Epoch[1] Train-mae=0.015260\n",
      "INFO:root:Epoch[1] Time cost=0.591\n",
      "INFO:root:Epoch[1] Validation-mae=0.015513\n",
      "INFO:root:Epoch[2] Batch [100]\tSpeed: 45073.86 samples/sec\tmae=0.015185\n",
      "INFO:root:Epoch[2] Batch [200]\tSpeed: 62771.36 samples/sec\tmae=0.014842\n",
      "INFO:root:Epoch[2] Batch [300]\tSpeed: 65685.67 samples/sec\tmae=0.014281\n",
      "INFO:root:Epoch[2] Batch [400]\tSpeed: 64183.11 samples/sec\tmae=0.014315\n",
      "INFO:root:Epoch[2] Train-mae=0.014802\n",
      "INFO:root:Epoch[2] Time cost=0.615\n",
      "INFO:root:Epoch[2] Validation-mae=0.014950\n",
      "INFO:root:Epoch[3] Batch [100]\tSpeed: 51570.02 samples/sec\tmae=0.014641\n",
      "INFO:root:Epoch[3] Batch [200]\tSpeed: 52402.51 samples/sec\tmae=0.014554\n",
      "INFO:root:Epoch[3] Batch [300]\tSpeed: 42982.50 samples/sec\tmae=0.013927\n",
      "INFO:root:Epoch[3] Batch [400]\tSpeed: 64530.10 samples/sec\tmae=0.014034\n",
      "INFO:root:Epoch[3] Train-mae=0.014629\n",
      "INFO:root:Epoch[3] Time cost=0.664\n",
      "INFO:root:Epoch[3] Validation-mae=0.014739\n",
      "INFO:root:Epoch[4] Batch [100]\tSpeed: 54274.51 samples/sec\tmae=0.014478\n",
      "INFO:root:Epoch[4] Batch [200]\tSpeed: 47594.49 samples/sec\tmae=0.014492\n",
      "INFO:root:Epoch[4] Batch [300]\tSpeed: 51546.78 samples/sec\tmae=0.013845\n",
      "INFO:root:Epoch[4] Batch [400]\tSpeed: 47954.24 samples/sec\tmae=0.013916\n",
      "INFO:root:Epoch[4] Train-mae=0.014561\n",
      "INFO:root:Epoch[4] Time cost=0.686\n",
      "INFO:root:Epoch[4] Validation-mae=0.014690\n",
      "INFO:root:Epoch[5] Batch [100]\tSpeed: 57003.53 samples/sec\tmae=0.014497\n",
      "INFO:root:Epoch[5] Batch [200]\tSpeed: 68305.89 samples/sec\tmae=0.014448\n",
      "INFO:root:Epoch[5] Batch [300]\tSpeed: 58785.15 samples/sec\tmae=0.013852\n",
      "INFO:root:Epoch[5] Batch [400]\tSpeed: 59732.68 samples/sec\tmae=0.013894\n",
      "INFO:root:Epoch[5] Train-mae=0.014524\n",
      "INFO:root:Epoch[5] Time cost=0.593\n",
      "INFO:root:Epoch[5] Validation-mae=0.014794\n",
      "INFO:root:Epoch[6] Batch [100]\tSpeed: 52711.30 samples/sec\tmae=0.014533\n",
      "INFO:root:Epoch[6] Batch [200]\tSpeed: 58846.55 samples/sec\tmae=0.014470\n",
      "INFO:root:Epoch[6] Batch [300]\tSpeed: 69000.55 samples/sec\tmae=0.013851\n",
      "INFO:root:Epoch[6] Batch [400]\tSpeed: 62545.67 samples/sec\tmae=0.013883\n",
      "INFO:root:Epoch[6] Train-mae=0.014516\n",
      "INFO:root:Epoch[6] Time cost=0.587\n",
      "INFO:root:Epoch[6] Validation-mae=0.014900\n",
      "INFO:root:Epoch[7] Batch [100]\tSpeed: 45241.52 samples/sec\tmae=0.014550\n",
      "INFO:root:Epoch[7] Batch [200]\tSpeed: 59963.96 samples/sec\tmae=0.014485\n",
      "INFO:root:Epoch[7] Batch [300]\tSpeed: 68802.16 samples/sec\tmae=0.013849\n",
      "INFO:root:Epoch[7] Batch [400]\tSpeed: 44948.60 samples/sec\tmae=0.013867\n",
      "INFO:root:Epoch[7] Train-mae=0.014506\n",
      "INFO:root:Epoch[7] Time cost=0.670\n",
      "INFO:root:Epoch[7] Validation-mae=0.014904\n",
      "INFO:root:Epoch[8] Batch [100]\tSpeed: 47813.85 samples/sec\tmae=0.014540\n",
      "INFO:root:Epoch[8] Batch [200]\tSpeed: 53581.45 samples/sec\tmae=0.014494\n",
      "INFO:root:Epoch[8] Batch [300]\tSpeed: 51004.48 samples/sec\tmae=0.013860\n",
      "INFO:root:Epoch[8] Batch [400]\tSpeed: 47208.79 samples/sec\tmae=0.013839\n",
      "INFO:root:Epoch[8] Train-mae=0.014493\n",
      "INFO:root:Epoch[8] Time cost=0.697\n",
      "INFO:root:Epoch[8] Validation-mae=0.014924\n",
      "INFO:root:Epoch[9] Batch [100]\tSpeed: 47009.05 samples/sec\tmae=0.014534\n",
      "INFO:root:Epoch[9] Batch [200]\tSpeed: 52420.06 samples/sec\tmae=0.014511\n",
      "INFO:root:Epoch[9] Batch [300]\tSpeed: 54268.37 samples/sec\tmae=0.013831\n",
      "INFO:root:Epoch[9] Batch [400]\tSpeed: 58642.00 samples/sec\tmae=0.013823\n",
      "INFO:root:Epoch[9] Train-mae=0.014482\n",
      "INFO:root:Epoch[9] Time cost=0.716\n",
      "INFO:root:Epoch[9] Validation-mae=0.014889\n"
     ]
    }
   ],
   "source": [
    "#MLP\n",
    "num_epochs = 10\n",
    "data = mx.sym.Variable('data')\n",
    "target = mx.sym.var(\"target\")\n",
    "data = mx.sym.Flatten(data=data)\n",
    "fc1  = mx.sym.FullyConnected(data=data, name='fc1', num_hidden=32)\n",
    "act1 = mx.sym.Activation(data=fc1, name='relu1', act_type=\"relu\")\n",
    "fc2  = mx.sym.FullyConnected(data=act1, name='fc2', num_hidden=1)\n",
    "mlp = mx.sym.LinearRegressionOutput(data=fc2, label=target)\n",
    "\n",
    "mlp_model = mx.mod.Module(symbol=mlp, data_names=['data'], \n",
    "                    label_names=['target'], context=ctx)\n",
    "\n",
    "mlp_model.fit(train_data=train_iter, eval_data=test_iter,\n",
    "            initializer=mx.init.Xavier(rnd_type=\"gaussian\", magnitude=1),\n",
    "            optimizer=\"adam\",\n",
    "            optimizer_params={\"learning_rate\": 1E-3},\n",
    "            batch_end_callback=mx.callback.Speedometer(batch_size, 100),\n",
    "            eval_metric=\"mae\", num_epoch=num_epochs)"
   ]
  },
  {
   "cell_type": "code",
   "execution_count": 268,
   "metadata": {
    "collapsed": false
   },
   "outputs": [
    {
     "name": "stdout",
     "output_type": "stream",
     "text": [
      "8760 [ 0.13542168]\n",
      "0.00219827\n",
      "(8760, 1) (8760, 1, 8) (8760, 0, 8)\n",
      "(8760, 8)\n",
      "(8760, 8) <type 'numpy.ndarray'>\n",
      "Test RMSE: 30.499\n"
     ]
    }
   ],
   "source": [
    "# Prediction\n",
    "\n",
    "yhat = mlp_model.predict(test_iter).asnumpy()\n",
    "print len(yhat), yhat[0]\n",
    "print np.mean((yhat - test_y))\n",
    "\n",
    "print yhat.shape, test_X.shape, test_X[:, 1:].shape\n",
    "\n",
    "p_test_X = test_X.reshape((test_X.shape[0], test_X.shape[2]))\n",
    "print p_test_X.shape\n",
    "\n",
    "inv_yhat = np.concatenate((yhat, p_test_X[:, 1:]), axis=1)\n",
    "print inv_yhat.shape, type(inv_yhat)\n",
    "\n",
    "inv_yhat = scaler.inverse_transform(inv_yhat)\n",
    "inv_yhat = inv_yhat[:,0]\n",
    "\n",
    "# scale back\n",
    "test_y = test_y.reshape((len(test_y), 1))\n",
    "inv_y = np.concatenate((test_y, p_test_X[:, 1:]), axis=1)\n",
    "inv_y = scaler.inverse_transform(inv_y)\n",
    "inv_y = inv_y[:,0]\n",
    "\n",
    "# calculate RMSE\n",
    "rmse = math.sqrt(mean_squared_error(inv_y, inv_yhat))\n",
    "print('Test RMSE: %.3f' % rmse)"
   ]
  },
  {
   "cell_type": "markdown",
   "metadata": {},
   "source": [
    "MLP for this use case sort of does the trick, We'll need to find the right params for LSTM, I'll leave that as a fun exercise to the reader"
   ]
  },
  {
   "cell_type": "code",
   "execution_count": 310,
   "metadata": {
    "collapsed": false
   },
   "outputs": [],
   "source": [
    "# Plot accuracy\n",
    "import matplotlib.pyplot as plt\n",
    "import numpy as np\n",
    "import re\n",
    "\n",
    "def show_plot(log_tr, log_val):\n",
    "    idx = np.arange(len(log_tr))\n",
    "\n",
    "    plt.figure(figsize=(8, 6))\n",
    "    plt.xlabel(\"Epoch\")\n",
    "    plt.ylabel(\"loss\")\n",
    "    plt.plot(idx, log_tr, 'o', linestyle='-', color=\"r\",\n",
    "             label=\"Train loss\")\n",
    "    if log_val is not None:\n",
    "        plt.plot(idx, log_val, 'o', linestyle='-', color=\"b\",\n",
    "             label=\"Val loss\")\n",
    "    plt.legend()\n",
    "    plt.show()    \n",
    "\n",
    "def plot_mxnet_curves(log_output, metric='accuracy'):\n",
    "    TR_RE = re.compile('.*?]\\sTrain-%s=([\\d\\.]+)' % metric)\n",
    "    VA_RE = re.compile('.*?]\\sValidation-%s=([\\d\\.]+)' % metric)\n",
    "    \n",
    "    log_tr = [float(x) for x in TR_RE.findall(log_output)]\n",
    "    log_val = [float(x) for x in VA_RE.findall(log_output)]\n",
    "    show_plot(log_tr, log_val)"
   ]
  },
  {
   "cell_type": "markdown",
   "metadata": {
    "collapsed": true
   },
   "source": [
    "# Gluon Code"
   ]
  },
  {
   "cell_type": "code",
   "execution_count": 303,
   "metadata": {
    "collapsed": false
   },
   "outputs": [],
   "source": [
    "import mxnet as mx\n",
    "import numpy as np\n",
    "import math\n",
    "\n",
    "from mxnet import nd, autograd\n",
    "from sklearn.metrics import mean_squared_error\n",
    "\n",
    "\n",
    "def get_data(batch, iter_type):\n",
    "    ''' get data and label from the iterator/dataloader '''\n",
    "    if iter_type == 'mxiter':\n",
    "        X_train = batch.data[0].as_in_context(ctx)\n",
    "        Y_train = batch.label[0].as_in_context(ctx)\n",
    "    else:\n",
    "        X_train = batch[0].as_in_context(ctx)\n",
    "        Y_train = batch[1].as_in_context(ctx)\n",
    "\n",
    "    return X_train, Y_train\n",
    "    \n",
    "class BaseRNNRegressor(mx.gluon.Block):\n",
    "    def __init__(self, ctx):\n",
    "        super(BaseRNNRegressor, self).__init__()\n",
    "        self.ctx = ctx\n",
    "        self.rnn = None\n",
    "        self.rnn_size = None\n",
    "        \n",
    "    #@override \n",
    "    def build_model(self, rnn_type='lstm', rnn_size=128, n_layer=1, n_out=1):\n",
    "        self.rnn_size = rnn_size\n",
    "        self.n_layer = n_layer\n",
    "        self.net = mx.gluon.rnn.LSTM(rnn_size, n_layer, 'NTC')\n",
    "        self.output = mx.gluon.nn.Dense(n_out)\n",
    "\n",
    "    #@override \n",
    "    def forward(self, inp, hidden):\n",
    "        rnn_out, hidden = self.net(inp, hidden)\n",
    "        #simplify\n",
    "        logits = self.output(rnn_out.reshape((-1, self.rnn_size)))\n",
    "        return logits, hidden\n",
    "        \n",
    "    def detach(self, arrs):\n",
    "        return [arr.detach() for arr in arrs]\n",
    "\n",
    "    def compile_model(self, optimizer='adam', lr=1E-3):\n",
    "        self.collect_params().initialize(mx.init.Xavier(), ctx=self.ctx)\n",
    "        self.loss = mx.gluon.loss.L1Loss()\n",
    "        self.optimizer = mx.gluon.Trainer(self.collect_params(), \n",
    "                                    optimizer, {'learning_rate': lr})\n",
    "\n",
    "\n",
    "    def evaluate_accuracy(self, data_iterator, metric='mae', iter_type='mxiter'):\n",
    "        met = mx.metric.MAE()\n",
    "        for i, batch in enumerate(data_iterator):\n",
    "            data, label = get_data(batch, iter_type)\n",
    "            preds = self.net(data)\n",
    "            met.update(labels=label, preds=preds)\n",
    "        return met.get()\n",
    "    \n",
    "    def fit(self, train_data, test_data, epochs):\n",
    "        moving_loss = 0.\n",
    "        train_loss = []\n",
    "        val_loss = []\n",
    "        iter_type = 'numpy'\n",
    "        \n",
    "        # Can take MX NDArrayIter, or DataLoader\n",
    "        if isinstance(train_data, mx.io.NDArrayIter):\n",
    "            train_iter = train_data\n",
    "            #total_batches = train_iter.num_data // train_iter.batch_size\n",
    "            test_iter = test_data\n",
    "            iter_type = 'mxiter'\n",
    "\n",
    "        elif isinstance(train_data, list):\n",
    "            if isinstance(train_data[0], np.ndarray) and isinstance(train_data[1], np.ndarray):\n",
    "                X, y = train_data[0], train_data[1]\n",
    "                #print type(test_data[0])\n",
    "                #if isinstance(test_data[0], np.ndarray):\n",
    "                #    raise ValueError(\"need test array to be numpy array\")\n",
    "                tX, ty = test_data[0], test_data[1]\n",
    "                train_iter = mx.gluon.data.DataLoader(mx.gluon.data.ArrayDataset(X, y), \n",
    "                                    batch_size=batch_size, shuffle=True, last_batch='discard')\n",
    "                test_iter = mx.gluon.data.DataLoader(mx.gluon.data.ArrayDataset(tX, ty), \n",
    "                                    batch_size=batch_size, shuffle=False, last_batch='discard')\n",
    "                #total_batches = len(X) // batch_size\n",
    "        else:\n",
    "            raise \"pass mxnet ndarray or numpy array\"\n",
    "\n",
    "        print \"data type:\", type(train_data), type(test_data), iter_type\n",
    "\n",
    "        init_state = mx.nd.zeros((1, batch_size, self.rnn_size), ctx)\n",
    "        hidden = [init_state] * 2\n",
    "        \n",
    "        for e in range(epochs):\n",
    "            if isinstance(train_iter, mx.io.NDArrayIter): train_iter.reset()\n",
    "            yhat = []\n",
    "            for i, batch in enumerate(train_iter):\n",
    "                data, label = get_data(batch, iter_type)\n",
    "                with autograd.record(train_mode=True):\n",
    "                    Y_pred, hidden = self.forward(data, hidden)\n",
    "                    hidden = self.detach(hidden)\n",
    "                    loss = self.loss(Y_pred, label) \n",
    "                    yhat.extend(Y_pred)\n",
    "                loss.backward()                                        \n",
    "                self.optimizer.step(batch_size)\n",
    "\n",
    "                if i == 0:\n",
    "                    moving_loss = nd.mean(loss).asscalar()\n",
    "                else:\n",
    "                    moving_loss = .99 * moving_loss + .01 * mx.nd.mean(loss).asscalar()\n",
    "            train_loss.append(moving_loss)\n",
    "            # TODO: add prediction?\n",
    "            \n",
    "            test_err = self.evaluate_accuracy(test_iter, iter_type=iter_type)\n",
    "            val_loss.append(test_err[1])\n",
    "            print(\"Epoch %s. Loss: %.10f Test MAE: %s\" % (e, moving_loss, test_err))\n",
    "        return train_loss, val_loss"
   ]
  },
  {
   "cell_type": "code",
   "execution_count": 304,
   "metadata": {
    "collapsed": false
   },
   "outputs": [
    {
     "name": "stdout",
     "output_type": "stream",
     "text": [
      "data type: <type 'list'> <type 'list'> numpy\n",
      "Epoch 0. Loss: 0.0430312322 Test MAE: ('mae', 0.12320409051610633)\n",
      "Epoch 1. Loss: 0.0212265480 Test MAE: ('mae', 0.13827456228630142)\n",
      "Epoch 2. Loss: 0.0149335518 Test MAE: ('mae', 0.14551130130542703)\n",
      "Epoch 3. Loss: 0.0138093784 Test MAE: ('mae', 0.15244989452870278)\n",
      "Epoch 4. Loss: 0.0135432033 Test MAE: ('mae', 0.15450714865332579)\n",
      "Epoch 5. Loss: 0.0135373886 Test MAE: ('mae', 0.15562485157113867)\n",
      "Epoch 6. Loss: 0.0134379411 Test MAE: ('mae', 0.1552719621995276)\n",
      "Epoch 7. Loss: 0.0134300791 Test MAE: ('mae', 0.15571429846242996)\n",
      "Epoch 8. Loss: 0.0132749386 Test MAE: ('mae', 0.15693603227781991)\n",
      "Epoch 9. Loss: 0.0134212607 Test MAE: ('mae', 0.15684805119192774)\n"
     ]
    }
   ],
   "source": [
    "ctx = mx.cpu()\n",
    "model = BaseRNNRegressor(ctx)\n",
    "model.build_model('lstm', rnn_size=seq_len, n_layer=1, n_out=1)\n",
    "model.compile_model(optimizer='adam')\n",
    "t_loss, v_loss = model.fit([train_X, train_y], [test_X, test_y], epochs=10)"
   ]
  },
  {
   "cell_type": "code",
   "execution_count": 309,
   "metadata": {
    "collapsed": false
   },
   "outputs": [
    {
     "data": {
      "image/png": "[encoded data removed]",
      "text/plain": [
       "<matplotlib.figure.Figure at 0x118e49090>"
      ]
     },
     "metadata": {},
     "output_type": "display_data"
    }
   ],
   "source": [
    "# Show the plot\n",
    "show_plot(t_loss, None)"
   ]
  },
  {
   "cell_type": "code",
   "execution_count": 34,
   "metadata": {
    "collapsed": false,
    "scrolled": true
   },
   "outputs": [
    {
     "name": "stdout",
     "output_type": "stream",
     "text": [
      "Epoch 0. Loss: 0.0696829086686, Train_acc 0, Test_acc 0\n",
      "Epoch 1. Loss: 0.0677475116669, Train_acc 0, Test_acc 0\n"
     ]
    }
   ],
   "source": [
    "# Running Fit function with an iterator\n",
    "model.fit(train_iter, test_iter, epochs=2)"
   ]
  }
 ],
 "metadata": {
  "kernelspec": {
   "display_name": "Python 2",
   "language": "python",
   "name": "python2"
  },
  "language_info": {
   "codemirror_mode": {
    "name": "ipython",
    "version": 2
   },
   "file_extension": ".py",
   "mimetype": "text/x-python",
   "name": "python",
   "nbconvert_exporter": "python",
   "pygments_lexer": "ipython2",
   "version": "2.7.11"
  }
 },
 "nbformat": 4,
 "nbformat_minor": 1
}
