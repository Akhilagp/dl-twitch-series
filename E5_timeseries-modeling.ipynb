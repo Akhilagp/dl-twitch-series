{
 "cells": [
  {
   "cell_type": "markdown",
   "metadata": {},
   "source": [
    "## Modeling timeseries data in MXNet: using LSTM to predict AWS spot instance price\n",
    "\n",
    "@sunilmallya\n",
    "\n",
    "@jrhunt\n",
    "\n",
    "MXNet cheat sheet: https://s3.amazonaws.com/aws-bigdata-blog/artifacts/apache_mxnet/apache-mxnet-cheat.pdf"
   ]
  },
  {
   "cell_type": "markdown",
   "metadata": {},
   "source": [
    "Dataset: https://raw.githubusercontent.com/sunilmallya/mxnet-notebooks/master/python/tutorials/data/p2-east-1b.csv"
   ]
  },
  {
   "cell_type": "markdown",
   "metadata": {},
   "source": [
    "### Recurrent Neural Networks (RNN)\n",
    "\n",
    "<img src=\"https://camo.githubusercontent.com/89a1cc7342d324ca30e45025bb278572f3f114d2/687474703a2f2f6b617270617468792e6769746875622e696f2f6173736574732f726e6e2f64696167732e6a706567\"/>"
   ]
  },
  {
   "cell_type": "markdown",
   "metadata": {},
   "source": [
    "<p style=\"text-align: center; font-size: 22px;\"><em>h<sub>t</sub> = activation(X<sub>t</sub>W<sub>x</sub> + h<sub>t-1</sub>W<sub>h</sub> )</em></p>"
   ]
  },
  {
   "cell_type": "code",
   "execution_count": null,
   "metadata": {
    "collapsed": true
   },
   "outputs": [],
   "source": []
  },
  {
   "cell_type": "markdown",
   "metadata": {},
   "source": [
    "LSTMs -- Long Short Term Memory\n",
    "<img src=\"https://camo.githubusercontent.com/5a4faf272952795d0011b147dc8bb0a3a7095cb3/687474703a2f2f646565706c6561726e696e672e6e65742f7475746f7269616c2f5f696d616765732f6c73746d5f6d656d6f727963656c6c2e706e67\">"
   ]
  },
  {
   "cell_type": "markdown",
   "metadata": {},
   "source": []
  },
  {
   "cell_type": "markdown",
   "metadata": {},
   "source": [
    "UnRolling LSTMs\n",
    "\n",
    "<img src=\"https://camo.githubusercontent.com/a90144b7e3d10d3b5a267cb617bb90b938cb048a/687474703a2f2f636f6c61682e6769746875622e696f2f706f7374732f323031352d30382d556e6465727374616e64696e672d4c53544d732f696d672f524e4e2d756e726f6c6c65642e706e67\"?>\n"
   ]
  },
  {
   "cell_type": "code",
   "execution_count": null,
   "metadata": {
    "collapsed": true
   },
   "outputs": [],
   "source": [
    "pip install mxnet\n",
    "pip install numpy\n",
    "pip install matplotlib\n",
    "pip install pandas\n"
   ]
  },
  {
   "cell_type": "code",
   "execution_count": 5,
   "metadata": {
    "collapsed": false
   },
   "outputs": [
    {
     "name": "stdout",
     "output_type": "stream",
     "text": [
      "--2017-10-05 18:59:38--  https://raw.githubusercontent.com/sunilmallya/mxnet-notebooks/master/python/tutorials/data/p2-east-1b.csv\n",
      "Resolving raw.githubusercontent.com (raw.githubusercontent.com)... 151.101.52.133\n",
      "Connecting to raw.githubusercontent.com (raw.githubusercontent.com)|151.101.52.133|:443... connected.\n",
      "HTTP request sent, awaiting response... 200 OK\n",
      "Length: 465850 (455K) [text/plain]\n",
      "Saving to: ‘p2-east-1b.csv’\n",
      "\n",
      "100%[======================================>] 465,850     --.-K/s   in 0.04s   \n",
      "\n",
      "2017-10-05 18:59:38 (10.7 MB/s) - ‘p2-east-1b.csv’ saved [465850/465850]\n",
      "\n"
     ]
    }
   ],
   "source": [
    "# load the\n",
    "\n",
    "!wget https://raw.githubusercontent.com/sunilmallya/mxnet-notebooks/master/python/tutorials/data/p2-east-1b.csv"
   ]
  },
  {
   "cell_type": "code",
   "execution_count": 11,
   "metadata": {
    "collapsed": false
   },
   "outputs": [
    {
     "data": {
      "text/html": [
       "<div>\n",
       "<table border=\"1\" class=\"dataframe\">\n",
       "  <thead>\n",
       "    <tr style=\"text-align: right;\">\n",
       "      <th></th>\n",
       "      <th>date</th>\n",
       "      <th>cost</th>\n",
       "    </tr>\n",
       "  </thead>\n",
       "  <tbody>\n",
       "    <tr>\n",
       "      <th>0</th>\n",
       "      <td>2017-05-08 21:42:56+00:00</td>\n",
       "      <td>0.2500</td>\n",
       "    </tr>\n",
       "    <tr>\n",
       "      <th>1</th>\n",
       "      <td>2017-05-08 21:41:01+00:00</td>\n",
       "      <td>0.2402</td>\n",
       "    </tr>\n",
       "    <tr>\n",
       "      <th>2</th>\n",
       "      <td>2017-05-08 21:40:05+00:00</td>\n",
       "      <td>0.2414</td>\n",
       "    </tr>\n",
       "    <tr>\n",
       "      <th>3</th>\n",
       "      <td>2017-05-08 21:42:56+00:00</td>\n",
       "      <td>0.2500</td>\n",
       "    </tr>\n",
       "    <tr>\n",
       "      <th>4</th>\n",
       "      <td>2017-05-08 21:41:01+00:00</td>\n",
       "      <td>0.2402</td>\n",
       "    </tr>\n",
       "  </tbody>\n",
       "</table>\n",
       "</div>"
      ],
      "text/plain": [
       "                        date    cost\n",
       "0  2017-05-08 21:42:56+00:00  0.2500\n",
       "1  2017-05-08 21:41:01+00:00  0.2402\n",
       "2  2017-05-08 21:40:05+00:00  0.2414\n",
       "3  2017-05-08 21:42:56+00:00  0.2500\n",
       "4  2017-05-08 21:41:01+00:00  0.2402"
      ]
     },
     "execution_count": 11,
     "metadata": {},
     "output_type": "execute_result"
    }
   ],
   "source": [
    "import pandas\n",
    "import numpy as np\n",
    "import mxnet as mx\n",
    "import matplotlib.pyplot as plt\n",
    "\n",
    "%matplotlib inline\n",
    "\n",
    "df = pandas.read_csv('p2-east-1b.csv', usecols=[0,4], names=['date', 'cost'])\n",
    "\n",
    "df.head()"
   ]
  },
  {
   "cell_type": "code",
   "execution_count": 8,
   "metadata": {
    "collapsed": false
   },
   "outputs": [
    {
     "data": {
      "text/plain": [
       "(7183,)"
      ]
     },
     "execution_count": 8,
     "metadata": {},
     "output_type": "execute_result"
    }
   ],
   "source": [
    "import dateutil.parser\n",
    "\n",
    "values = df.values[::-1]\n",
    "\n",
    "ticks = map(dateutil.parser.parse, values[:,0])\n",
    "dataset = values[:,1]\n",
    "dataset.shape"
   ]
  },
  {
   "cell_type": "code",
   "execution_count": 9,
   "metadata": {
    "collapsed": false
   },
   "outputs": [
    {
     "data": {
      "text/plain": [
       "[<matplotlib.lines.Line2D at 0x7f5ac5943f90>]"
      ]
     },
     "execution_count": 9,
     "metadata": {},
     "output_type": "execute_result"
    },
    {
     "data": {
      "image/png": "[encoded data removed]",
      "text/plain": [
       "<matplotlib.figure.Figure at 0x7f5abc2883d0>"
      ]
     },
     "metadata": {},
     "output_type": "display_data"
    }
   ],
   "source": [
    "plt.plot(ticks, dataset)"
   ]
  },
  {
   "cell_type": "code",
   "execution_count": 13,
   "metadata": {
    "collapsed": false
   },
   "outputs": [
    {
     "data": {
      "text/plain": [
       "(array([[0.162],\n",
       "        [0.1623],\n",
       "        [0.1616],\n",
       "        [0.161],\n",
       "        [0.1613]], dtype=object), array([[ 0.06241331],\n",
       "        [ 0.06324549],\n",
       "        [ 0.06130374],\n",
       "        [ 0.05963939],\n",
       "        [ 0.06047157]]))"
      ]
     },
     "execution_count": 13,
     "metadata": {},
     "output_type": "execute_result"
    }
   ],
   "source": [
    "# Tx = Tx-1, Tx-2 ; Window size = 2\n",
    "\n",
    "\n",
    "from sklearn.preprocessing import MinMaxScaler\n",
    "\n",
    "dataset = np.reshape(dataset, (len(dataset), 1))\n",
    "scaler = MinMaxScaler(feature_range=(0,1))\n",
    "scaled_dataset = scaler.fit_transform(dataset)\n",
    "\n",
    "dataset[:5],  scaled_dataset[:5]"
   ]
  },
  {
   "cell_type": "code",
   "execution_count": 16,
   "metadata": {
    "collapsed": false
   },
   "outputs": [
    {
     "data": {
      "text/plain": [
       "(array([[ 0.06241331],\n",
       "        [ 0.06324549]]), array([ 0.06130374]))"
      ]
     },
     "execution_count": 16,
     "metadata": {},
     "output_type": "execute_result"
    }
   ],
   "source": [
    "# align the data\n",
    "\n",
    "seq_len = 2\n",
    "\n",
    "x = scaled_dataset\n",
    "y = scaled_dataset[: ,[-1]]\n",
    "\n",
    "x[:5], y[:5]\n",
    "\n",
    "dataX = []; dataY = []\n",
    "\n",
    "for i in range(0, len(y)-seq_len):\n",
    "    _x = x[i: i+seq_len]\n",
    "    _y = y[i+seq_len]\n",
    "    dataX.append(_x)\n",
    "    dataY.append(_y)\n",
    "    \n",
    "dataX[0], dataY[0]\n",
    "\n",
    "# Tx0, Tx1 => Tx2 \n",
    "# Tx1, Tx2 => Tx3"
   ]
  },
  {
   "cell_type": "code",
   "execution_count": 18,
   "metadata": {
    "collapsed": false
   },
   "outputs": [
    {
     "data": {
      "text/plain": [
       "(array([[ 0.06324549],\n",
       "        [ 0.06130374]]), array([ 0.06047157]))"
      ]
     },
     "execution_count": 18,
     "metadata": {},
     "output_type": "execute_result"
    }
   ],
   "source": [
    "dataX[1], dataY[2]"
   ]
  },
  {
   "cell_type": "code",
   "execution_count": 47,
   "metadata": {
    "collapsed": false
   },
   "outputs": [
    {
     "data": {
      "text/plain": [
       "(5026, 2, 1)"
      ]
     },
     "execution_count": 47,
     "metadata": {},
     "output_type": "execute_result"
    }
   ],
   "source": [
    "# Define Itertors \n",
    "\n",
    "#split the data\n",
    "train_size = int(len(dataY) * 0.7)\n",
    "test_size = len(dataY) -  train_size\n",
    "\n",
    "batch_size = 32\n",
    "\n",
    "trainX, testX = np.array(dataX[:train_size]), np.array(dataX[train_size:])\n",
    "trainY, testY = np.array(dataY[:train_size]), np.array(dataY[train_size:])\n",
    "\n",
    "\n",
    "train_iter = mx.io.NDArrayIter(data=trainX, label=trainY, \n",
    "                               batch_size=batch_size, shuffle=True)\n",
    "\n",
    "val_iter = mx.io.NDArrayIter(data=testX, label=testY, \n",
    "                               batch_size=batch_size, shuffle=False)\n",
    "\n",
    "trainX.shape"
   ]
  },
  {
   "cell_type": "code",
   "execution_count": null,
   "metadata": {
    "collapsed": true
   },
   "outputs": [],
   "source": []
  },
  {
   "cell_type": "code",
   "execution_count": 48,
   "metadata": {
    "collapsed": false
   },
   "outputs": [],
   "source": [
    "# Lets build the network\n",
    "data = mx.sym.var(\"data\")\n",
    "data = mx.sym.transpose(data, axes=(1,0,2))\n",
    "\n",
    "# T N C -- Time Steps/ Seq len; N - Batch Size, C - dimensions in the hidden state\n",
    "\n",
    "'''\n",
    "Long-Short Term Memory (LSTM) network cell.\n",
    "\n",
    "Parameters:\t\n",
    "num_hidden (int) – Number of units in output symbol.\n",
    "prefix (str, default ‘lstm_‘) – Prefix for name of layers (and name of weight if params is None).\n",
    "params (RNNParams, default None) – Container for weight sharing between cells. Created if None.\n",
    "forget_bias (bias added to forget gate, default 1.0.) – Jozefowicz et al. 2015 recommends setting this to 1.0\n",
    "\n",
    "'''\n",
    "\n",
    "lstm1 = mx.rnn.LSTMCell(num_hidden=5, prefix='lstm1')\n",
    "lstm2 = mx.rnn.LSTMCell(num_hidden=10, prefix='lstm2')\n",
    "\n",
    "L1, states = lstm1.unroll(length=seq_len, inputs=data, merge_outputs=True, layout=\"TNC\")\n",
    "L2, L2_states = lstm2.unroll(length=seq_len, inputs=L1, merge_outputs=True, layout=\"TNC\")\n",
    "\n",
    "L2_reshape = mx.sym.reshape(L2_states[0], shape=(-1, 0), reverse=True)  # (T*N, 10 -- num_hidden lstm2)\n",
    "fc = mx.sym.FullyConnected(L2_reshape, num_hidden=1, name='fc')\n",
    "net = mx.sym.LinearRegressionOutput(data=fc, name=\"softmax\")\n",
    "\n",
    "#mx.viz.plot_network(net) #, shape=(1,2,2))"
   ]
  },
  {
   "cell_type": "code",
   "execution_count": 57,
   "metadata": {
    "collapsed": false
   },
   "outputs": [
    {
     "name": "stderr",
     "output_type": "stream",
     "text": [
      "INFO:root:Epoch[0] Train-mse=0.036224\n",
      "INFO:root:Epoch[0] Time cost=0.166\n",
      "INFO:root:Epoch[0] Validation-mse=0.021374\n",
      "INFO:root:Epoch[1] Train-mse=0.015755\n",
      "INFO:root:Epoch[1] Time cost=0.151\n",
      "INFO:root:Epoch[1] Validation-mse=0.003693\n"
     ]
    }
   ],
   "source": [
    "# Training\n",
    "\n",
    "import logging\n",
    "logging.getLogger().setLevel(logging.DEBUG)\n",
    "\n",
    "num_epochs = 2\n",
    "model = mx.mod.Module(symbol=net, context=mx.cpu(0))\n",
    "\n",
    "model.fit(train_data=train_iter, eval_data=val_iter,\n",
    "        optimizer=\"adam\",\n",
    "        optimizer_params={'learning_rate': 1E-3},\n",
    "        eval_metric=\"mse\",\n",
    "        num_epoch=num_epochs\n",
    "         )\n"
   ]
  },
  {
   "cell_type": "code",
   "execution_count": 58,
   "metadata": {
    "collapsed": false
   },
   "outputs": [
    {
     "name": "stdout",
     "output_type": "stream",
     "text": [
      "0.00370868180762\n"
     ]
    },
    {
     "data": {
      "text/plain": [
       "(array([[ 0.24493368],\n",
       "        [ 0.21718703],\n",
       "        [ 0.19813988],\n",
       "        [ 0.19741414],\n",
       "        [ 0.19685887]], dtype=float32), array([[ 0.14618585],\n",
       "        [ 0.14174757],\n",
       "        [ 0.14008322],\n",
       "        [ 0.13453537],\n",
       "        [ 0.13730929]]))"
      ]
     },
     "execution_count": 58,
     "metadata": {},
     "output_type": "execute_result"
    }
   ],
   "source": [
    "test_pred = model.predict(val_iter).asnumpy()\n",
    "#type(test_pred)\n",
    "print np.mean((test_pred - testY)**2)\n",
    "\n",
    "test_plot = scaler.inverse_transform(test_pred)\n",
    "test_plot[:5], testY[:5]"
   ]
  },
  {
   "cell_type": "code",
   "execution_count": 59,
   "metadata": {
    "collapsed": false
   },
   "outputs": [
    {
     "data": {
      "text/plain": [
       "[<matplotlib.lines.Line2D at 0x7f5a073f7e50>]"
      ]
     },
     "execution_count": 59,
     "metadata": {},
     "output_type": "execute_result"
    },
    {
     "data": {
      "image/png": "[encoded data removed]",
      "text/plain": [
       "<matplotlib.figure.Figure at 0x7f5a0750b810>"
      ]
     },
     "metadata": {},
     "output_type": "display_data"
    }
   ],
   "source": [
    "plt.plot(ticks[train_size+seq_len:], test_plot)"
   ]
  },
  {
   "cell_type": "code",
   "execution_count": 60,
   "metadata": {
    "collapsed": false
   },
   "outputs": [
    {
     "data": {
      "text/plain": [
       "<matplotlib.legend.Legend at 0x7f5a0735da90>"
      ]
     },
     "execution_count": 60,
     "metadata": {},
     "output_type": "execute_result"
    },
    {
     "data": {
      "image/png": "[encoded data removed]",
      "text/plain": [
       "<matplotlib.figure.Figure at 0x7f5a073b5d50>"
      ]
     },
     "metadata": {},
     "output_type": "display_data"
    }
   ],
   "source": [
    "\n",
    "t_plot = np.empty_like(dataset)\n",
    "t_plot[:] = np.nan\n",
    "t_plot[len(trainY): -seq_len] = test_plot \n",
    "plt.plot(ticks, dataset, label=\"real data\")\n",
    "plt.plot(ticks, t_plot, label= \"pred\")\n",
    "\n",
    "plt.legend()"
   ]
  },
  {
   "cell_type": "code",
   "execution_count": null,
   "metadata": {
    "collapsed": true
   },
   "outputs": [],
   "source": []
  },
  {
   "cell_type": "code",
   "execution_count": null,
   "metadata": {
    "collapsed": true
   },
   "outputs": [],
   "source": []
  },
  {
   "cell_type": "code",
   "execution_count": null,
   "metadata": {
    "collapsed": true
   },
   "outputs": [],
   "source": []
  }
 ],
 "metadata": {
  "kernelspec": {
   "display_name": "Python 2",
   "language": "python",
   "name": "python2"
  },
  "language_info": {
   "codemirror_mode": {
    "name": "ipython",
    "version": 2
   },
   "file_extension": ".py",
   "mimetype": "text/x-python",
   "name": "python",
   "nbconvert_exporter": "python",
   "pygments_lexer": "ipython2",
   "version": "2.7.11"
  }
 },
 "nbformat": 4,
 "nbformat_minor": 2
}
