{
 "cells": [
  {
   "cell_type": "markdown",
   "metadata": {
    "deletable": true,
    "editable": true
   },
   "source": [
    "## Deep Learning on AWS - Sentiment analysis on movie reviews\n",
    "\n",
    "Lets build a model to predict the sentiment of the movie review (Positive or Negative)\n",
    "\n",
    "@sunilmallya\n",
    "\n",
    "@jrhunt\n",
    "\n",
    "Dataset and use case credit to David Ping\n",
    "\n",
    "### Twitch Video Link: https://www.twitch.tv/videos/169476156"
   ]
  },
  {
   "cell_type": "markdown",
   "metadata": {
    "deletable": true,
    "editable": true
   },
   "source": [
    "# Dataset Overview\n",
    "\n",
    "The training and testing dataset is the IMDB movie review database.  \n",
    "\n",
    "It has 50,000 movie reviews that are labelled with either a negative(0) or a positive(1) sentiment. \n",
    "\n",
    "We will split the dataset into 25,000 reviews for training and 25,000 reviews for testing.\n",
    "\n",
    "## Download Link\n",
    "\n",
    "\n",
    "http://ai.stanford.edu/~amaas/data/sentiment/"
   ]
  },
  {
   "cell_type": "markdown",
   "metadata": {},
   "source": [
    "# Setup\n",
    "\n",
    "For th easiest Deep Learning environment I recommend using the AWS using Deep Learning AMI, please read [this post on AWS AI Blog](https://aws.amazon.com/blogs/ai/the-aws-deep-learning-ami-now-with-ubuntu/) for detailed instructions. "
   ]
  },
  {
   "cell_type": "markdown",
   "metadata": {
    "deletable": true,
    "editable": true
   },
   "source": [
    "# Load Modules"
   ]
  },
  {
   "cell_type": "code",
   "execution_count": 4,
   "metadata": {
    "collapsed": false,
    "deletable": true,
    "editable": true
   },
   "outputs": [
    {
     "name": "stderr",
     "output_type": "stream",
     "text": [
      "Using Theano backend.\n",
      "Using gpu device 0: Tesla K80 (CNMeM is disabled, cuDNN 5110)\n",
      "/usr/local/lib/python2.7/dist-packages/Theano-0.8.2-py2.7.egg/theano/sandbox/cuda/__init__.py:600: UserWarning: Your cuDNN version is more recent than the one Theano officially supports. If you see any problems, try updating Theano or downgrading cuDNN to version 5.\n",
      "  warnings.warn(warn)\n"
     ]
    }
   ],
   "source": [
    "import mxnet as mx\n",
    "import numpy as np\n",
    "\n",
    "#https://keras.io/preprocessing/text/\n",
    "from keras.preprocessing.text import Tokenizer\n",
    "from keras.preprocessing.sequence import pad_sequences"
   ]
  },
  {
   "cell_type": "markdown",
   "metadata": {
    "deletable": true,
    "editable": true
   },
   "source": [
    "# Process Movie Review Data\n",
    "\n",
    "The dataset can be downloaded from http://ai.stanford.edu/~amaas/data/sentiment/. We will process the unzipped raw reviews into traing and testing datasets for training and validation purpose."
   ]
  },
  {
   "cell_type": "code",
   "execution_count": 1,
   "metadata": {
    "collapsed": true
   },
   "outputs": [],
   "source": [
    "# Load the data\n",
    "import sys\n",
    "import os\n",
    "\n",
    "path = 'aclImdb'\n",
    "\n",
    "files = [path + '/train/pos/' + f for f in os.listdir(path + '/train/pos/')] +  \\\n",
    "    [path + '/train/neg/' + f for f in os.listdir(path + '/train/neg/')] +\\\n",
    "    [path + '/test/pos/' + f for f in os.listdir(path + '/test/pos/')] +\\\n",
    "    [path + '/test/neg/' + f for f in os.listdir(path + '/test/neg/')]\n"
   ]
  },
  {
   "cell_type": "code",
   "execution_count": 2,
   "metadata": {
    "collapsed": true,
    "deletable": true,
    "editable": true
   },
   "outputs": [],
   "source": [
    "import re\n",
    "\n",
    "TAG_RE = re.compile(r'<[^>]+>')\n",
    "\n",
    "def remove_tags(text):\n",
    "    return TAG_RE.sub('', text)\n",
    "\n",
    "input_text  = []\n",
    "\n",
    "for fname in files:\n",
    "    with open(fname) as f:\n",
    "        input_text += [remove_tags(\" \".join(f.readlines()))]"
   ]
  },
  {
   "cell_type": "code",
   "execution_count": 5,
   "metadata": {
    "collapsed": false
   },
   "outputs": [],
   "source": [
    "num_words = 10000\n",
    "\n",
    "tok = Tokenizer(num_words)\n",
    "tok.fit_on_texts(input_text[:25000])"
   ]
  },
  {
   "cell_type": "code",
   "execution_count": 6,
   "metadata": {
    "collapsed": true
   },
   "outputs": [],
   "source": [
    "# Create Training & test data;  input data (X) and Labels (Y) \n",
    "\n",
    "# Labels \n",
    "input_label = ([1] * 12500 + [0] * 12500) * 2\n",
    "\n",
    "# Words will be replaced with index        \n",
    "X_train = tok.texts_to_sequences(input_text[:25000])\n",
    "X_test  = tok.texts_to_sequences(input_text[25000:])\n",
    "y_train = input_label[:25000]\n",
    "y_test  = input_label[25000:]"
   ]
  },
  {
   "cell_type": "code",
   "execution_count": 7,
   "metadata": {
    "collapsed": true,
    "deletable": true,
    "editable": true
   },
   "outputs": [],
   "source": [
    "#MAX Review Length\n",
    "MAX_LENGTH = 500\n",
    "\n",
    "X_train = pad_sequences(X_train, maxlen=MAX_LENGTH)\n",
    "X_test = pad_sequences(X_test, maxlen=MAX_LENGTH)\n",
    "\n",
    "y_train = np.asarray(y_train)\n",
    "y_test = np.asarray(y_test)\n",
    "\n",
    "#http://mxnet.io/api/python/io.html#mxnet.io.NDArrayIter\n",
    "batch_size = 250\n",
    "train_iter = mx.io.NDArrayIter(X_train, y_train, batch_size, shuffle=True)\n",
    "test_iter = mx.io.NDArrayIter(X_test, y_test, batch_size, shuffle=True)"
   ]
  },
  {
   "cell_type": "markdown",
   "metadata": {
    "deletable": true,
    "editable": true
   },
   "source": [
    "# Time to build the model"
   ]
  },
  {
   "cell_type": "code",
   "execution_count": 9,
   "metadata": {
    "collapsed": false,
    "deletable": true,
    "editable": true
   },
   "outputs": [],
   "source": [
    "data = mx.sym.Variable('data')\n",
    "target = mx.sym.Variable('softmax_label')  # placeholder for label\n",
    "\n",
    "emb = mx.sym.Embedding(data=data, input_dim=num_words, output_dim=32, name='embed') \n",
    "\n",
    "# MLP only accepts 1D vector, hence flatten\n",
    "f_data = mx.sym.Flatten(data=emb, name='flatten')\n",
    "fc1  = mx.sym.FullyConnected(data=f_data, num_hidden=250)\n",
    "act1 = mx.sym.Activation(data=fc1, act_type=\"relu\")  \n",
    "fc2 = mx.sym.FullyConnected(data=act1, num_hidden=2) \n",
    "mlp = mx.sym.SoftmaxOutput(data=fc2, label=target, name='softmax')\n",
    "\n",
    "# Lets visualize the network\n",
    "#mx.viz.plot_network(mlp)"
   ]
  },
  {
   "cell_type": "markdown",
   "metadata": {
    "deletable": true,
    "editable": true
   },
   "source": [
    "# Model Training"
   ]
  },
  {
   "cell_type": "code",
   "execution_count": 11,
   "metadata": {
    "collapsed": false,
    "deletable": true,
    "editable": true
   },
   "outputs": [
    {
     "name": "stderr",
     "output_type": "stream",
     "text": [
      "INFO:root:Epoch[0] Train-accuracy=0.793280\n",
      "INFO:root:Epoch[0] Time cost=2.362\n",
      "INFO:root:Epoch[0] Validation-accuracy=0.880280\n",
      "INFO:root:Epoch[1] Train-accuracy=0.950360\n",
      "INFO:root:Epoch[1] Time cost=2.323\n",
      "INFO:root:Epoch[1] Validation-accuracy=0.859280\n",
      "INFO:root:Epoch[2] Train-accuracy=0.984000\n",
      "INFO:root:Epoch[2] Time cost=2.319\n",
      "INFO:root:Epoch[2] Validation-accuracy=0.857160\n",
      "INFO:root:Epoch[3] Train-accuracy=0.983880\n",
      "INFO:root:Epoch[3] Time cost=2.323\n",
      "INFO:root:Epoch[3] Validation-accuracy=0.849560\n",
      "INFO:root:Epoch[4] Train-accuracy=0.984000\n",
      "INFO:root:Epoch[4] Time cost=2.322\n",
      "INFO:root:Epoch[4] Validation-accuracy=0.845560\n",
      "INFO:root:Epoch[5] Train-accuracy=0.988240\n",
      "INFO:root:Epoch[5] Time cost=2.322\n",
      "INFO:root:Epoch[5] Validation-accuracy=0.842640\n",
      "INFO:root:Epoch[6] Train-accuracy=0.994600\n",
      "INFO:root:Epoch[6] Time cost=2.322\n",
      "INFO:root:Epoch[6] Validation-accuracy=0.854720\n",
      "INFO:root:Epoch[7] Train-accuracy=0.999360\n",
      "INFO:root:Epoch[7] Time cost=2.321\n",
      "INFO:root:Epoch[7] Validation-accuracy=0.852320\n",
      "INFO:root:Epoch[8] Train-accuracy=0.999960\n",
      "INFO:root:Epoch[8] Time cost=2.321\n",
      "INFO:root:Epoch[8] Validation-accuracy=0.853000\n",
      "INFO:root:Epoch[9] Train-accuracy=1.000000\n",
      "INFO:root:Epoch[9] Time cost=2.325\n",
      "INFO:root:Epoch[9] Validation-accuracy=0.853160\n"
     ]
    }
   ],
   "source": [
    "import logging\n",
    "logger = logging.getLogger()\n",
    "logger.setLevel(logging.INFO)\n",
    "\n",
    "num_epoch = 10\n",
    "ctx = [mx.gpu(i) for i in range(1)]\n",
    "\n",
    "mlp_model = mx.mod.Module(symbol=mlp, context=ctx) \n",
    "mlp_model.fit(train_iter,              \n",
    "    eval_data=test_iter,                          \n",
    "    optimizer=\"adam\",  # use adam optimizer to train\n",
    "    optimizer_params={'learning_rate':0.01},        \n",
    "    eval_metric='acc',  \n",
    "    batch_end_callback = mx.callback.Speedometer(batch_size, 100),\n",
    "    num_epoch=num_epoch)"
   ]
  },
  {
   "cell_type": "markdown",
   "metadata": {
    "deletable": true,
    "editable": true
   },
   "source": [
    "# Model Evaluation\n",
    "We already evaluated the model during training.  Let's also try evaluating the trained model separately from the traing step"
   ]
  },
  {
   "cell_type": "code",
   "execution_count": 12,
   "metadata": {
    "collapsed": false,
    "deletable": true,
    "editable": true
   },
   "outputs": [
    {
     "data": {
      "text/plain": [
       "[('accuracy', 0.85316)]"
      ]
     },
     "execution_count": 12,
     "metadata": {},
     "output_type": "execute_result"
    }
   ],
   "source": [
    "metric = mx.metric.Accuracy()\n",
    "mlp_model.score(test_iter, metric)"
   ]
  },
  {
   "cell_type": "markdown",
   "metadata": {
    "deletable": true,
    "editable": true
   },
   "source": [
    "# Saving The Model\n",
    "\n",
    "Now we have the model fully trained, we can save the model for reuse later\n",
    "2 files will be generated\n",
    "json file captures the network configuration of the neural network\n",
    "params file captures the learned parameters for the network"
   ]
  },
  {
   "cell_type": "code",
   "execution_count": 13,
   "metadata": {
    "collapsed": false,
    "deletable": true,
    "editable": true
   },
   "outputs": [
    {
     "name": "stderr",
     "output_type": "stream",
     "text": [
      "INFO:root:Saved checkpoint to \"twitch_imdb-0010.params\"\n"
     ]
    }
   ],
   "source": [
    "# Save the model\n",
    "prefix = \"twitch_imdb\"\n",
    "mlp_model.save_checkpoint (prefix, num_epoch)"
   ]
  },
  {
   "cell_type": "markdown",
   "metadata": {
    "deletable": true,
    "editable": true
   },
   "source": [
    "# Making Predictions\n"
   ]
  },
  {
   "cell_type": "markdown",
   "metadata": {
    "deletable": true,
    "editable": true
   },
   "source": [
    "# Load Saved Model"
   ]
  },
  {
   "cell_type": "code",
   "execution_count": 14,
   "metadata": {
    "collapsed": false,
    "deletable": true,
    "editable": true
   },
   "outputs": [
    {
     "name": "stderr",
     "output_type": "stream",
     "text": [
      "/home/ubuntu/mxnet/python/mxnet/module/base_module.py:64: UserWarning: Data provided by label_shapes don't match names specified by label_names ([] vs. ['softmax_label'])\n",
      "  warnings.warn(msg)\n"
     ]
    }
   ],
   "source": [
    "prefix = \"twitch_imdb\"\n",
    "pred_model = mx.mod.Module.load(prefix, num_epoch, False)\n",
    "\n",
    "# We load the model for only forward pass, so for_training=False\n",
    "# Set the data shape for 1 single batch example of size (1,500) => (batch_size, MAX_LENGTH)\n",
    "pred_model.bind(for_training=False, data_shapes=[('data', (1, MAX_LENGTH))])"
   ]
  },
  {
   "cell_type": "code",
   "execution_count": 15,
   "metadata": {
    "collapsed": true,
    "deletable": true,
    "editable": true
   },
   "outputs": [],
   "source": [
    "# Remember we need the input to test in the same format as we trained\n",
    "def prepare_imdb_list(text, maxlen=500, vocabsize=10000):\n",
    "\n",
    "    # the index to the vocabular we built earlier\n",
    "    imdb_word_index = tok.word_index \n",
    "    sentence = []\n",
    "    sentence.append(str(text))\n",
    "    \n",
    "    #tokenize the input sentence\n",
    "    tokens = Tokenizer()\n",
    "    tokens.fit_on_texts(sentence)\n",
    "\n",
    "    # get a list of words from the encoding\n",
    "    words = []\n",
    "    for iter in range(len(tokens.word_index)):\n",
    "        words += [key for key,value in tokens.word_index.items() if value==iter+1]\n",
    "\n",
    "    imdb_seq = []\n",
    "    for w in words:\n",
    "        idx = imdb_word_index[w]\n",
    "        if idx < vocabsize:\n",
    "            imdb_seq.append(idx)\n",
    "\n",
    "    new_list = []\n",
    "    new_list.append(imdb_seq)\n",
    "    new_list = pad_sequences(new_list, maxlen=maxlen)\n",
    "    \n",
    "    return new_list\n",
    "\n",
    "\n",
    "def predict_sentiment(model, text_nd):\n",
    "    sentence_Iter = mx.io.NDArrayIter(text_nd, batch_size=1)\n",
    "    pred = pred_model.predict(sentence_Iter)\n",
    "\n",
    "    return pred\n",
    "\n",
    "def handle_submit(sender):\n",
    "    text_nd = prepare_imdb_list(inputtext.value)\n",
    "    pred = predict_sentiment(pred_model, text_nd)\n",
    "    outputlabel_0.value = 'Probability for negative sentiment (0):  %0.4f ' % pred.asnumpy()[0:1,0]\n",
    "    outputlabel_1.value = 'Probability for positive sentiment (1):   %0.4f ' % pred.asnumpy()[0:1,1]"
   ]
  },
  {
   "cell_type": "markdown",
   "metadata": {
    "deletable": true,
    "editable": true
   },
   "source": [
    "# Lets have some fun with testing the model"
   ]
  },
  {
   "cell_type": "code",
   "execution_count": 17,
   "metadata": {
    "collapsed": false,
    "deletable": true,
    "editable": true
   },
   "outputs": [
    {
     "name": "stderr",
     "output_type": "stream",
     "text": [
      "/usr/local/lib/python2.7/dist-packages/IPython/html.py:14: ShimWarning: The `IPython.html` package has been deprecated. You should import from `notebook` instead. `IPython.html.widgets` has moved to `ipywidgets`.\n",
      "  \"`IPython.html.widgets` has moved to `ipywidgets`.\", ShimWarning)\n",
      "/usr/local/lib/python2.7/dist-packages/ipywidgets/widgets/widget.py:166: DeprecationWarning: Widget._keys_default is deprecated in traitlets 4.1: use @default decorator instead.\n",
      "  def _keys_default(self):\n"
     ]
    }
   ],
   "source": [
    "from IPython.display import display \n",
    "from IPython.html import widgets\n",
    "inputtext = widgets.Textarea()\n",
    "\n",
    "display(inputtext)\n",
    "\n",
    "inputbutton = widgets.Button(description='Predict Sentiment')\n",
    "\n",
    "display(inputbutton)\n",
    "\n",
    "outputlabel_0 = widgets.HTML()\n",
    "outputlabel_1 = widgets.HTML()\n",
    "display(outputlabel_0)\n",
    "display(outputlabel_1)\n",
    "\n",
    "inputbutton.on_click(handle_submit)"
   ]
  },
  {
   "cell_type": "markdown",
   "metadata": {},
   "source": [
    "### More adventurous readers scroll below :)"
   ]
  },
  {
   "cell_type": "markdown",
   "metadata": {},
   "source": [
    "### Lets try building an MLP model to do the same with MXNet's imperative interface Gluon\n",
    "\n",
    "Make sure you install it by running \n",
    "\n",
    "pip install mxnet --pre\n",
    "\n",
    "Gluon Tutorial: https://github.com/zackchase/mxnet-the-straight-dope"
   ]
  },
  {
   "cell_type": "markdown",
   "metadata": {
    "deletable": true,
    "editable": true
   },
   "source": [
    "# MXNet Gluon Interface"
   ]
  },
  {
   "cell_type": "code",
   "execution_count": null,
   "metadata": {
    "collapsed": false,
    "deletable": true,
    "editable": true
   },
   "outputs": [],
   "source": [
    "import mxnet as mx\n",
    "from mxnet import nd, autograd\n",
    "from mxnet import gluon\n",
    "import numpy as np\n",
    "\n",
    "ctx = mx.cpu()\n",
    "\n",
    "num_outputs = 2\n",
    "num_hidden = 256\n",
    "net = gluon.nn.Sequential()\n",
    "with net.name_scope():\n",
    "    net.add(gluon.nn.Embedding(vocabsize, 32, weight_initializer=mx.init.Uniform(0.1)))\n",
    "    net.add(gluon.nn.Dense(num_hidden, activation=\"relu\"))\n",
    "    net.add(gluon.nn.Dropout(0.5))\n",
    "    net.add(gluon.nn.Dense(num_hidden, activation=\"relu\"))\n",
    "    net.add(gluon.nn.Dense(num_outputs))\n",
    "    \n",
    "    \n",
    "net.collect_params().initialize(mx.init.Xavier(magnitude=2.24), ctx=ctx)\n",
    "loss = gluon.loss.SoftmaxCrossEntropyLoss()\n",
    "trainer = gluon.Trainer(net.collect_params(), 'adam', {'learning_rate': .01})\n",
    "\n",
    "\n",
    "def evaluate_accuracy(data_iterator, net, shape_n=500):\n",
    "    acc = mx.metric.Accuracy()\n",
    "    data_iterator.reset()\n",
    "    for i, batch in enumerate(data_iterator):\n",
    "        data = batch.data[0].as_in_context(ctx).reshape((-1,shape_n))\n",
    "        label = batch.label[0].as_in_context(ctx)\n",
    "        output = net(data)\n",
    "        predictions = nd.argmax(output, axis=1)\n",
    "        acc.update(preds=predictions, labels=label)\n",
    "    return acc.get()[1]\n"
   ]
  },
  {
   "cell_type": "code",
   "execution_count": null,
   "metadata": {
    "collapsed": false,
    "deletable": true,
    "editable": true
   },
   "outputs": [],
   "source": [
    "epochs = 10\n",
    "moving_loss = 0.\n",
    "\n",
    "for e in range(epochs):\n",
    "    train_data.reset()\n",
    "    for i, batch in enumerate(train_iter):\n",
    "        data = batch.data[0].as_in_context(ctx).reshape((-1,500))\n",
    "        label = batch.label[0].as_in_context(ctx)\n",
    "        with autograd.record():\n",
    "            output = net(data)\n",
    "            cross_entropy = loss(output, label)\n",
    "            cross_entropy.backward()\n",
    "        trainer.step(data.shape[0], ignore_stale_grad=True)\n",
    "        \n",
    "        ##########################\n",
    "        #  Keep a moving average of the losses\n",
    "        ##########################\n",
    "        if i == 0:\n",
    "            moving_loss = nd.mean(cross_entropy).asscalar()\n",
    "        else:\n",
    "            moving_loss = .99 * moving_loss + .01 * nd.mean(cross_entropy).asscalar()\n",
    "            \n",
    "    test_accuracy = evaluate_accuracy(test_iter, net)\n",
    "    train_accuracy = evaluate_accuracy(train_iter, net)\n",
    "    print(\"Epoch %s. Loss: %s, Train_acc %s, Test_acc %s\" % (e, moving_loss, train_accuracy, test_accuracy))"
   ]
  },
  {
   "cell_type": "code",
   "execution_count": 18,
   "metadata": {
    "collapsed": false,
    "deletable": true,
    "editable": true
   },
   "outputs": [
    {
     "name": "stdout",
     "output_type": "stream",
     "text": [
      "[0.812929830771, 0.404830086653, 0.194560304798, 0.0949568697476, 0.0540652401239, 0.0192620222058, 0.0256203386385, 0.0162229706022, 0.0194205419608, 0.0193563111006]\n"
     ]
    },
    {
     "data": {
      "image/png": "[encoded data removed]",
      "text/plain": [
       "<matplotlib.figure.Figure at 0x7f0af00f3ed0>"
      ]
     },
     "metadata": {},
     "output_type": "display_data"
    }
   ],
   "source": [
    "# Plot the loss function and see the curve\n",
    "\n",
    "content = '''Epoch 0. Loss: 0.812929830771, Train_acc 0.78576, Test_acc 0.7498\n",
    "Epoch 1. Loss: 0.404830086653, Train_acc 0.95528, Test_acc 0.86884\n",
    "Epoch 2. Loss: 0.194560304798, Train_acc 0.9746, Test_acc 0.8424\n",
    "Epoch 3. Loss: 0.0949568697476, Train_acc 0.98632, Test_acc 0.85032\n",
    "Epoch 4. Loss: 0.0540652401239, Train_acc 0.99656, Test_acc 0.84576\n",
    "Epoch 5. Loss: 0.0192620222058, Train_acc 0.99904, Test_acc 0.86436\n",
    "Epoch 6. Loss: 0.0256203386385, Train_acc 0.99788, Test_acc 0.85636\n",
    "Epoch 7. Loss: 0.0162229706022, Train_acc 0.99724, Test_acc 0.85216\n",
    "Epoch 8. Loss: 0.0194205419608, Train_acc 0.9978, Test_acc 0.84712\n",
    "Epoch 9. Loss: 0.0193563111006, Train_acc 0.99904, Test_acc 0.85124'''\n",
    "\n",
    "loss_points = [float(c.split(\" \")[3].rstrip(',')) for c in content.split('\\n')]\n",
    "print loss_points\n",
    "\n",
    "import matplotlib.pyplot as plt\n",
    "plt.plot(loss_points)\n",
    "plt.show()"
   ]
  },
  {
   "cell_type": "code",
   "execution_count": null,
   "metadata": {
    "collapsed": true
   },
   "outputs": [],
   "source": []
  }
 ],
 "metadata": {
  "kernelspec": {
   "display_name": "Python 2",
   "language": "python",
   "name": "python2"
  },
  "language_info": {
   "codemirror_mode": {
    "name": "ipython",
    "version": 2
   },
   "file_extension": ".py",
   "mimetype": "text/x-python",
   "name": "python",
   "nbconvert_exporter": "python",
   "pygments_lexer": "ipython2",
   "version": "2.7.6"
  },
  "widgets": {
   "state": {
    "136fe89b2b614792afc82fbf8500b87c": {
     "views": [
      {
       "cell_index": 25
      }
     ]
    },
    "521c04e239234a1e8bd290849f5e66ac": {
     "views": [
      {
       "cell_index": 25
      }
     ]
    },
    "61584956af2c4aa4bc7e1a15c4067037": {
     "views": [
      {
       "cell_index": 25
      }
     ]
    },
    "fe0a1c56419945b9adbb29eecf3d46b1": {
     "views": [
      {
       "cell_index": 25
      }
     ]
    }
   },
   "version": "1.2.0"
  }
 },
 "nbformat": 4,
 "nbformat_minor": 2
}
