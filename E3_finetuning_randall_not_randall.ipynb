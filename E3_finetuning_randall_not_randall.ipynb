{
 "cells": [
  {
   "cell_type": "markdown",
   "metadata": {},
   "source": [
    "# Build a model to detect if Randall is in the image or not!\n",
    "\n",
    "Randall or Not"
   ]
  },
  {
   "cell_type": "markdown",
   "metadata": {},
   "source": [
    "## Dataset\n",
    "   \n",
    "- Randall : s3://ranman-selfies\n",
    "- Not Randall: http://vis-www.cs.umass.edu/lfw/lfw.tgz  (celeb faces)\n",
    "    "
   ]
  },
  {
   "cell_type": "markdown",
   "metadata": {},
   "source": [
    "### most of the code is borrowed from\n",
    "https://github.com/dmlc/mxnet-notebooks/blob/master/python/tutorials/finetune-CNN-catsvsdogs.ipynb"
   ]
  },
  {
   "cell_type": "code",
   "execution_count": 1,
   "metadata": {
    "collapsed": false
   },
   "outputs": [],
   "source": [
    "# helper functions\n",
    "import mxnet as mx\n",
    "import os, urllib\n",
    "\n",
    "def download(url):\n",
    "    filename = url.split(\"/\")[-1]\n",
    "    if not os.path.exists(filename):\n",
    "        urllib.urlretrieve(url, filename)\n",
    "        \n",
    "def get_model(prefix, epoch):\n",
    "    download(prefix+'-symbol.json')\n",
    "    download(prefix+'-%04d.params' % (epoch,))\n",
    "\n",
    "get_model('http://data.mxnet.io/models/imagenet/resnet/152-layers/resnet-152', 0)\n",
    "sym, arg_params, aux_params = mx.model.load_checkpoint('resnet-152', 0)"
   ]
  },
  {
   "cell_type": "code",
   "execution_count": 2,
   "metadata": {
    "collapsed": true
   },
   "outputs": [],
   "source": [
    "# Data Iterators for cats vs dogs dataset\n",
    "\n",
    "import mxnet as mx\n",
    "\n",
    "def get_iterators(batch_size, data_shape=(3, 224, 224)):\n",
    "    train = mx.io.ImageRecordIter(\n",
    "        path_imgrec         = './data/rnr_train.lst.rec', \n",
    "        data_name           = 'data',\n",
    "        label_name          = 'softmax_label',\n",
    "        batch_size          = batch_size,\n",
    "        data_shape          = data_shape,\n",
    "        shuffle             = True,\n",
    "        rand_crop           = True,\n",
    "        rand_mirror         = True)\n",
    "    val = mx.io.ImageRecordIter(\n",
    "        path_imgrec         = './data/rnr_valid.lst.rec',\n",
    "        data_name           = 'data',\n",
    "        label_name          = 'softmax_label',\n",
    "        batch_size          = batch_size,\n",
    "        data_shape          = data_shape,\n",
    "        rand_crop           = False,\n",
    "        rand_mirror         = False)\n",
    "    return (train, val)"
   ]
  },
  {
   "cell_type": "code",
   "execution_count": 3,
   "metadata": {
    "collapsed": false
   },
   "outputs": [],
   "source": [
    "def get_fine_tune_model(symbol, arg_params, num_classes, layer_name='flatten0'):\n",
    "    \"\"\"\n",
    "    symbol: the pre-trained network symbol\n",
    "    arg_params: the argument parameters of the pre-trained model\n",
    "    num_classes: the number of classes for the fine-tune datasets\n",
    "    layer_name: the layer name before the last fully-connected layer\n",
    "    \"\"\"\n",
    "    all_layers = sym.get_internals()\n",
    "    net = all_layers[layer_name + '_output']\n",
    "    net = mx.symbol.FullyConnected(data=net, num_hidden=num_classes, name='fc1')\n",
    "    net = mx.symbol.SoftmaxOutput(data=net, name='softmax')\n",
    "    new_args = dict({k:arg_params[k] for k in arg_params if 'fc1' not in k})\n",
    "    return (net, new_args)\n",
    "\n",
    "num_classes = 2 # RANDALL OR NOT\n",
    "(new_sym, new_args) = get_fine_tune_model(sym, arg_params, num_classes)"
   ]
  },
  {
   "cell_type": "code",
   "execution_count": 4,
   "metadata": {
    "collapsed": true
   },
   "outputs": [],
   "source": [
    "import logging\n",
    "head = '%(asctime)-15s %(message)s'\n",
    "logging.basicConfig(level=logging.DEBUG, format=head)\n",
    "\n",
    "def fit(symbol, arg_params, aux_params, train, val, batch_size, num_gpus=1, num_epoch=1):\n",
    "    devs = [mx.gpu(i) for i in range(num_gpus)] # replace mx.gpu by mx.cpu for CPU training\n",
    "    mod = mx.mod.Module(symbol=new_sym, context=devs)\n",
    "    mod.bind(data_shapes=train.provide_data, label_shapes=train.provide_label)\n",
    "    mod.init_params(initializer=mx.init.Xavier(rnd_type='gaussian', factor_type=\"in\", magnitude=2))\n",
    "    mod.set_params(new_args, aux_params, allow_missing=True)\n",
    "    mod.fit(train, val, \n",
    "        num_epoch=num_epoch,\n",
    "        batch_end_callback = mx.callback.Speedometer(batch_size, 10),        \n",
    "        kvstore='device',\n",
    "        optimizer='sgd',\n",
    "        optimizer_params={'learning_rate':0.009},\n",
    "        eval_metric='acc')\n",
    "    \n",
    "    return mod"
   ]
  },
  {
   "cell_type": "code",
   "execution_count": 5,
   "metadata": {
    "collapsed": false
   },
   "outputs": [
    {
     "name": "stderr",
     "output_type": "stream",
     "text": [
      "2017-09-07 20:48:08,544 Already bound, ignoring bind()\n",
      "/home/ubuntu/mxnet/python/mxnet/module/base_module.py:449: UserWarning: Parameters already initialized and force_init=False. init_params call ignored.\n",
      "  allow_missing=allow_missing, force_init=force_init)\n",
      "2017-09-07 20:48:22,861 Epoch[0] Batch [10]\tSpeed: 76.39 samples/sec\tTrain-accuracy=0.850852\n",
      "2017-09-07 20:48:31,228 Epoch[0] Batch [20]\tSpeed: 76.50 samples/sec\tTrain-accuracy=0.967187\n",
      "2017-09-07 20:48:39,613 Epoch[0] Batch [30]\tSpeed: 76.34 samples/sec\tTrain-accuracy=0.981250\n",
      "2017-09-07 20:48:48,034 Epoch[0] Batch [40]\tSpeed: 76.02 samples/sec\tTrain-accuracy=0.992188\n",
      "2017-09-07 20:48:56,484 Epoch[0] Batch [50]\tSpeed: 75.74 samples/sec\tTrain-accuracy=0.985938\n",
      "2017-09-07 20:49:04,923 Epoch[0] Batch [60]\tSpeed: 75.85 samples/sec\tTrain-accuracy=0.987500\n",
      "2017-09-07 20:49:13,375 Epoch[0] Batch [70]\tSpeed: 75.73 samples/sec\tTrain-accuracy=0.990625\n",
      "2017-09-07 20:49:21,834 Epoch[0] Batch [80]\tSpeed: 75.67 samples/sec\tTrain-accuracy=0.993750\n",
      "2017-09-07 20:49:30,282 Epoch[0] Batch [90]\tSpeed: 75.76 samples/sec\tTrain-accuracy=0.993750\n",
      "2017-09-07 20:49:38,685 Epoch[0] Batch [100]\tSpeed: 76.17 samples/sec\tTrain-accuracy=0.989062\n",
      "2017-09-07 20:49:47,069 Epoch[0] Batch [110]\tSpeed: 76.35 samples/sec\tTrain-accuracy=0.985938\n",
      "2017-09-07 20:49:55,431 Epoch[0] Batch [120]\tSpeed: 76.55 samples/sec\tTrain-accuracy=0.996875\n",
      "2017-09-07 20:50:03,786 Epoch[0] Batch [130]\tSpeed: 76.62 samples/sec\tTrain-accuracy=0.995313\n",
      "2017-09-07 20:50:12,169 Epoch[0] Batch [140]\tSpeed: 76.35 samples/sec\tTrain-accuracy=0.992188\n",
      "2017-09-07 20:50:20,541 Epoch[0] Batch [150]\tSpeed: 76.46 samples/sec\tTrain-accuracy=0.996875\n",
      "2017-09-07 20:50:28,904 Epoch[0] Batch [160]\tSpeed: 76.54 samples/sec\tTrain-accuracy=0.990625\n",
      "2017-09-07 20:50:37,276 Epoch[0] Batch [170]\tSpeed: 76.46 samples/sec\tTrain-accuracy=0.996875\n",
      "2017-09-07 20:50:45,669 Epoch[0] Batch [180]\tSpeed: 76.26 samples/sec\tTrain-accuracy=0.992188\n",
      "2017-09-07 20:50:54,092 Epoch[0] Batch [190]\tSpeed: 76.00 samples/sec\tTrain-accuracy=1.000000\n",
      "2017-09-07 20:51:02,531 Epoch[0] Batch [200]\tSpeed: 75.85 samples/sec\tTrain-accuracy=1.000000\n",
      "2017-09-07 20:51:11,007 Epoch[0] Batch [210]\tSpeed: 75.51 samples/sec\tTrain-accuracy=0.995313\n",
      "2017-09-07 20:51:19,451 Epoch[0] Batch [220]\tSpeed: 75.80 samples/sec\tTrain-accuracy=0.995313\n",
      "2017-09-07 20:51:27,877 Epoch[0] Batch [230]\tSpeed: 75.97 samples/sec\tTrain-accuracy=0.995313\n",
      "2017-09-07 20:51:36,259 Epoch[0] Batch [240]\tSpeed: 76.36 samples/sec\tTrain-accuracy=0.992188\n",
      "2017-09-07 20:51:44,632 Epoch[0] Batch [250]\tSpeed: 76.45 samples/sec\tTrain-accuracy=1.000000\n",
      "2017-09-07 20:51:52,980 Epoch[0] Batch [260]\tSpeed: 76.67 samples/sec\tTrain-accuracy=0.998437\n",
      "2017-09-07 20:51:58,840 Epoch[0] Train-accuracy=1.000000\n",
      "2017-09-07 20:51:58,841 Epoch[0] Time cost=230.046\n",
      "2017-09-07 20:52:01,370 Epoch[0] Validation-accuracy=1.000000\n"
     ]
    }
   ],
   "source": [
    "num_classes = 2 # This is binary classification (Randall vs not Randall)\n",
    "batch_per_gpu = 16\n",
    "num_gpus = 4\n",
    "(new_sym, new_args) = get_fine_tune_model(sym, arg_params, num_classes)\n",
    "\n",
    "batch_size = batch_per_gpu * num_gpus\n",
    "(train, val) = get_iterators(batch_size)\n",
    "mod = fit(new_sym, new_args, aux_params, train, val, batch_size, num_gpus)\n",
    "\n",
    "#metric = mx.metric.Accuracy()\n",
    "#mod_score = mod.score(val, metric)\n",
    "#print mod_score"
   ]
  },
  {
   "cell_type": "code",
   "execution_count": 6,
   "metadata": {
    "collapsed": false
   },
   "outputs": [
    {
     "name": "stderr",
     "output_type": "stream",
     "text": [
      "2017-09-07 20:56:10,875 Saved checkpoint to \"resnet-mxnet-rnr-0001.params\"\n"
     ]
    }
   ],
   "source": [
    "prefix = 'resnet-mxnet-rnr'\n",
    "epoch = 1\n",
    "mc = mod.save_checkpoint(prefix, epoch)"
   ]
  },
  {
   "cell_type": "code",
   "execution_count": 7,
   "metadata": {
    "collapsed": false
   },
   "outputs": [
    {
     "name": "stderr",
     "output_type": "stream",
     "text": [
      "/home/ubuntu/mxnet/python/mxnet/module/base_module.py:64: UserWarning: Data provided by label_shapes don't match names specified by label_names ([] vs. ['softmax_label'])\n",
      "  warnings.warn(msg)\n"
     ]
    }
   ],
   "source": [
    "# load the model, make sure you have executed previous cells to train\n",
    "import cv2\n",
    "dshape = [('data', (1,3,224,224))]\n",
    "\n",
    "def load_model(s_fname, p_fname):\n",
    "    \"\"\"\n",
    "    Load model checkpoint from file.\n",
    "    :return: (arg_params, aux_params)\n",
    "    arg_params : dict of str to NDArray\n",
    "        Model parameter, dict of name to NDArray of net's weights.\n",
    "    aux_params : dict of str to NDArray\n",
    "        Model parameter, dict of name to NDArray of net's auxiliary states.\n",
    "    \"\"\"\n",
    "    symbol = mx.symbol.load(s_fname)\n",
    "    save_dict = mx.nd.load(p_fname)\n",
    "    arg_params = {}\n",
    "    aux_params = {}\n",
    "    for k, v in save_dict.items():\n",
    "        tp, name = k.split(':', 1)\n",
    "        if tp == 'arg':\n",
    "            arg_params[name] = v\n",
    "        if tp == 'aux':\n",
    "            aux_params[name] = v\n",
    "    return symbol, arg_params, aux_params\n",
    "\n",
    "model_symbol = \"resnet-mxnet-rnr-symbol.json\"\n",
    "model_params = \"resnet-mxnet-rnr-0001.params\"\n",
    "sym, arg_params, aux_params = load_model(model_symbol, model_params)\n",
    "mod = mx.mod.Module(symbol=sym)\n",
    "\n",
    "# bind the model and set training == False; Define the data shape\n",
    "mod.bind(for_training=False, data_shapes=dshape)\n",
    "mod.set_params(arg_params, aux_params)"
   ]
  },
  {
   "cell_type": "markdown",
   "metadata": {},
   "source": [
    "Lets see if we can predict if that's a Randall image"
   ]
  },
  {
   "cell_type": "markdown",
   "metadata": {},
   "source": [
    "<img src=\"https://d0.awsstatic.com/Developer%20Marketing/evangelists/evangelist-bio-randall-hunt.png\"/>\n"
   ]
  },
  {
   "cell_type": "code",
   "execution_count": 24,
   "metadata": {
    "collapsed": false
   },
   "outputs": [
    {
     "name": "stdout",
     "output_type": "stream",
     "text": [
      "Randall 0.999914\n"
     ]
    }
   ],
   "source": [
    "import urllib2\n",
    "import numpy as np\n",
    "\n",
    "from collections import namedtuple\n",
    "Batch = namedtuple('Batch', ['data'])\n",
    "\n",
    "def preprocess_image(img, show_img=False):\n",
    "    '''\n",
    "    convert the image to a numpy array\n",
    "    '''\n",
    "    img = cv2.resize(img, (224, 224))\n",
    "    img = np.swapaxes(img, 0, 2)\n",
    "    img = np.swapaxes(img, 1, 2) \n",
    "    img = img[np.newaxis, :] \n",
    "    return img\n",
    "\n",
    "url = 'https://d0.awsstatic.com/Developer%20Marketing/evangelists/evangelist-bio-randall-hunt.png'\n",
    "req = urllib2.urlopen(url)\n",
    "\n",
    "image = np.asarray(bytearray(req.read()), dtype=\"uint8\")\n",
    "image = cv2.imdecode(image, cv2.IMREAD_COLOR)\n",
    "img = preprocess_image(image)\n",
    "\n",
    "mod.forward(Batch([mx.nd.array(img)]))\n",
    "\n",
    "# predict\n",
    "prob = mod.get_outputs()[0].asnumpy()\n",
    "labels = [\"Randall\", \"Not Randall\"]\n",
    "print labels[prob.argmax()], max(prob[0])"
   ]
  },
  {
   "cell_type": "markdown",
   "metadata": {},
   "source": [
    "yay! that's Randall"
   ]
  },
  {
   "cell_type": "markdown",
   "metadata": {},
   "source": [
    "## Lets visualize the filters"
   ]
  },
  {
   "cell_type": "code",
   "execution_count": 15,
   "metadata": {
    "collapsed": false
   },
   "outputs": [
    {
     "name": "stdout",
     "output_type": "stream",
     "text": [
      "['bn1_moving_var', 'bn1_output', 'relu1_output', 'pool1_output', 'flatten0_output', 'fc1_weight', 'fc1_bias', 'fc1_output', 'softmax_label', 'softmax_output']\n"
     ]
    }
   ],
   "source": [
    "## Feature extraction\n",
    "import matplotlib.pyplot as plt\n",
    "import cv2\n",
    "import numpy as np\n",
    "# define a simple data batch\n",
    "from collections import namedtuple\n",
    "Batch = namedtuple('Batch', ['data'])\n",
    "\n",
    "def get_image(url, show=False):\n",
    "    # download and show the image\n",
    "    fname = mx.test_utils.download(url)\n",
    "    img = cv2.cvtColor(cv2.imread(fname), cv2.COLOR_BGR2RGB)\n",
    "    if img is None:\n",
    "         return None\n",
    "    if show:\n",
    "         plt.imshow(img)\n",
    "         plt.axis('off')\n",
    "    # convert into format (batch, RGB, width, height)\n",
    "    img = cv2.resize(img, (224, 224))\n",
    "    img = np.swapaxes(img, 0, 2)\n",
    "    img = np.swapaxes(img, 1, 2)\n",
    "    img = img[np.newaxis, :]\n",
    "    return img\n",
    "\n",
    "# list the last 10 layers\n",
    "all_layers = sym.get_internals()\n",
    "print all_layers.list_outputs()[-10:]"
   ]
  },
  {
   "cell_type": "code",
   "execution_count": 17,
   "metadata": {
    "collapsed": false
   },
   "outputs": [
    {
     "name": "stderr",
     "output_type": "stream",
     "text": [
      "2017-09-07 20:59:01,715 Starting new HTTPS connection (1): d0.awsstatic.com\n",
      "/usr/local/lib/python2.7/dist-packages/requests/packages/urllib3/util/ssl_.py:334: SNIMissingWarning: An HTTPS request has been made, but the SNI (Subject Name Indication) extension to TLS is not available on this platform. This may cause the server to present an incorrect TLS certificate, which can cause validation failures. You can upgrade to a newer version of Python to solve this. For more information, see https://urllib3.readthedocs.io/en/latest/advanced-usage.html#ssl-warnings\n",
      "  SNIMissingWarning\n",
      "/usr/local/lib/python2.7/dist-packages/requests/packages/urllib3/util/ssl_.py:132: InsecurePlatformWarning: A true SSLContext object is not available. This prevents urllib3 from configuring SSL appropriately and may cause certain SSL connections to fail. You can upgrade to a newer version of Python to solve this. For more information, see https://urllib3.readthedocs.io/en/latest/advanced-usage.html#ssl-warnings\n",
      "  InsecurePlatformWarning\n",
      "2017-09-07 20:59:01,827 https://d0.awsstatic.com:443 \"GET /Developer%20Marketing/evangelists/evangelist-bio-randall-hunt.png HTTP/1.1\" 200 102795\n",
      "2017-09-07 20:59:01,844 downloaded https://d0.awsstatic.com/Developer%20Marketing/evangelists/evangelist-bio-randall-hunt.png into evangelist-bio-randall-hunt.png successfully\n"
     ]
    },
    {
     "name": "stdout",
     "output_type": "stream",
     "text": [
      "(1, 64, 112, 112)\n"
     ]
    }
   ],
   "source": [
    "#fe_sym = all_layers['flatten0_output']\n",
    "fe_sym = all_layers['conv0_output']\n",
    "fe_mod = mx.mod.Module(symbol=fe_sym, context=mx.cpu(), label_names=None)\n",
    "fe_mod.bind(for_training=False, data_shapes=[('data', (1,3,224,224))])\n",
    "fe_mod.set_params(arg_params, aux_params)\n",
    "\n",
    "url = 'https://d0.awsstatic.com/Developer%20Marketing/evangelists/evangelist-bio-randall-hunt.png'\n",
    "img = get_image(url)\n",
    "fe_mod.forward(Batch([mx.nd.array(img)]))\n",
    "features = fe_mod.get_outputs()[0].asnumpy()\n",
    "print features.shape "
   ]
  },
  {
   "cell_type": "code",
   "execution_count": 19,
   "metadata": {
    "collapsed": false
   },
   "outputs": [
    {
     "name": "stdout",
     "output_type": "stream",
     "text": [
      "(5, 112, 112)\n",
      "(5, 112, 112)\n",
      "(5, 112, 112)\n"
     ]
    },
    {
     "data": {
      "image/png": "[encoded data removed]",
      "text/plain": [
       "<matplotlib.figure.Figure at 0x7f912c1dcd90>"
      ]
     },
     "metadata": {},
     "output_type": "display_data"
    },
    {
     "data": {
      "image/png": "[encoded data removed]",
      "text/plain": [
       "<matplotlib.figure.Figure at 0x7f912c1dcc50>"
      ]
     },
     "metadata": {},
     "output_type": "display_data"
    },
    {
     "data": {
      "image/png": "[encoded data removed]",
      "text/plain": [
       "<matplotlib.figure.Figure at 0x7f9118050790>"
      ]
     },
     "metadata": {},
     "output_type": "display_data"
    }
   ],
   "source": [
    "from PIL import Image\n",
    "import numpy as np\n",
    "\n",
    "%matplotlib inline\n",
    "\n",
    "w, h = 112, 112\n",
    "\n",
    "# Plot helpers\n",
    "def plots(ims, figsize=(12,6), rows=1, interp=False, titles=None):\n",
    "    if type(ims[0]) is np.ndarray:\n",
    "        ims = np.array(ims).astype(np.uint8)\n",
    "        print ims.shape\n",
    "        #if (ims.shape[-1] != 3):\n",
    "        #    ims = ims.transpose((0,2,3,1))\n",
    "    f = plt.figure(figsize=figsize)\n",
    "    for i in range(len(ims)):\n",
    "        sp = f.add_subplot(rows, len(ims)//rows, i+1)\n",
    "        sp.axis('Off')\n",
    "        if titles is not None:\n",
    "            sp.set_title(titles[i], fontsize=16)\n",
    "        plt.imshow(ims[i], interpolation=None if interp else 'none')\n",
    "        \n",
    "def plots_idx(idx, titles=None):\n",
    "    plots([features[0][i] for i in idx])\n",
    "\n",
    "plots_idx(range(0,5))\n",
    "plots_idx(range(5,10))\n",
    "plots_idx(range(55,60))\n",
    "\n",
    "\n",
    "#data = np.zeros((h, w, 3), dtype=np.uint8)\n",
    "#img = Image.fromarray(features[0][:2028], 'RGB')\n",
    "#img.show()"
   ]
  },
  {
   "cell_type": "code",
   "execution_count": null,
   "metadata": {
    "collapsed": true
   },
   "outputs": [],
   "source": []
  }
 ],
 "metadata": {
  "kernelspec": {
   "display_name": "Python 2",
   "language": "python",
   "name": "python2"
  },
  "language_info": {
   "codemirror_mode": {
    "name": "ipython",
    "version": 2
   },
   "file_extension": ".py",
   "mimetype": "text/x-python",
   "name": "python",
   "nbconvert_exporter": "python",
   "pygments_lexer": "ipython2",
   "version": "2.7.6"
  }
 },
 "nbformat": 4,
 "nbformat_minor": 2
}
